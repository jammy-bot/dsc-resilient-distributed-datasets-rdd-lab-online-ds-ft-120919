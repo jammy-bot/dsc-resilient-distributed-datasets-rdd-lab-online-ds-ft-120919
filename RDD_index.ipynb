{
  "nbformat": 4,
  "nbformat_minor": 0,
  "metadata": {
    "kernelspec": {
      "display_name": "Python 3",
      "language": "python",
      "name": "python3"
    },
    "language_info": {
      "codemirror_mode": {
        "name": "ipython",
        "version": 3
      },
      "file_extension": ".py",
      "mimetype": "text/x-python",
      "name": "python",
      "nbconvert_exporter": "python",
      "pygments_lexer": "ipython3",
      "version": "3.7.3"
    },
    "colab": {
      "name": "RDD index.ipynb",
      "provenance": []
    }
  },
  "cells": [
    {
      "cell_type": "markdown",
      "metadata": {
        "id": "9GSlipSUMfIB",
        "colab_type": "text"
      },
      "source": [
        "## Resilient Distributed Datasets (RDDs) - Lab\n",
        "\n",
        "Resilient Distributed Datasets (RDD) are fundamental data structures of Spark. An RDD is essentially the Spark representation of a set of data, spread across multiple machines, with APIs to let you act on it. An RDD can come from any data source, e.g. text files, a database, a JSON file, etc.\n",
        "\n",
        "\n",
        "## Objectives\n",
        "\n",
        "You will be able to:\n",
        "\n",
        "- Apply the map(func) transformation to a given function on all elements of an RDD in different partitions \n",
        "- Apply a map transformation for all elements of an RDD \n",
        "- Compare the difference between a transformation and an action within RDDs \n",
        "- Use collect(), count(), and take() actions to trigger spark transformations  \n",
        "- Use filter to select data that meets certain specifications within an RDD \n",
        "- Set number of partitions for parallelizing RDDs \n",
        "- Create RDDs from Python collections \n"
      ]
    },
    {
      "cell_type": "code",
      "metadata": {
        "id": "cR6TviCXFp32",
        "colab_type": "code",
        "colab": {}
      },
      "source": [
        ""
      ],
      "execution_count": 0,
      "outputs": []
    },
    {
      "cell_type": "code",
      "metadata": {
        "id": "82RA19Y5ZLT3",
        "colab_type": "code",
        "colab": {}
      },
      "source": [
        "import os\n",
        "os.environ[\"JAVA_HOME\"] = \"/usr/lib/jvm/java-8-openjdk-amd64\"\n",
        "os.environ[\"SPARK_HOME\"] = \"/content/spark-2.4.5-bin-hadoop2.7\""
      ],
      "execution_count": 0,
      "outputs": []
    },
    {
      "cell_type": "code",
      "metadata": {
        "id": "0RsajZD9ZAoh",
        "colab_type": "code",
        "colab": {}
      },
      "source": [
        "!apt-get install openjdk-8-jdk-headless -qq > /dev/null\n",
        "!wget -q https://downloads.apache.org/spark/spark-2.4.5/spark-2.4.5-bin-hadoop2.7.tgz\n",
        "!tar xf spark-2.4.5-bin-hadoop2.7.tgz\n",
        "!pip install -q findspark\n"
      ],
      "execution_count": 0,
      "outputs": []
    },
    {
      "cell_type": "code",
      "metadata": {
        "id": "PJEAuZa_ZPCa",
        "colab_type": "code",
        "colab": {}
      },
      "source": [
        "# import necessary libraries\n",
        "import findspark\n",
        "findspark.init()"
      ],
      "execution_count": 0,
      "outputs": []
    },
    {
      "cell_type": "code",
      "metadata": {
        "id": "UbcQkwqdFirI",
        "colab_type": "code",
        "colab": {}
      },
      "source": [
        "import pyspark\n",
        "from pyspark import SparkContext\n",
        "sc = pyspark.SparkContext('local[*]')"
      ],
      "execution_count": 0,
      "outputs": []
    },
    {
      "cell_type": "code",
      "metadata": {
        "id": "Onj84kF6ZSiO",
        "colab_type": "code",
        "colab": {}
      },
      "source": [
        "# initialize Spark Session\n",
        "from pyspark.sql import SparkSession\n",
        "spark = SparkSession.builder.master(\"local[*]\").getOrCreate()"
      ],
      "execution_count": 0,
      "outputs": []
    },
    {
      "cell_type": "markdown",
      "metadata": {
        "id": "ROYoQP7_MfIC",
        "colab_type": "text"
      },
      "source": [
        "## What are RDDs? \n",
        "\n",
        "To get a better understanding of RDDs, let's break down each one of the components of the acronym RDD:\n",
        "\n",
        "Resilient: RDDs are considered \"resilient\" because they have built-in fault tolerance. This means that even if one of the nodes goes offline, RDDs will be able to restore the data. This is already a huge advantage compared to standard storage. If a standard computer dies while performing an operation, all of its memory will be lost in the process. With RDDs, multiple nodes can go offline, and the action will still be held in working memory.\n",
        "\n",
        "Distributed: The data is contained on multiple nodes of a cluster-computing operation. It is efficiently partitioned to allow for parallelism.\n",
        "\n",
        "Dataset: The dataset has been * partitioned * across the multiple nodes. \n",
        "\n",
        "RDDs are the building block upon which more high-level Spark operations are based upon. Chances are, if you are performing an action using Spark, the operation involves RDDs. \n",
        "\n",
        "\n",
        "\n",
        "Key Characteristics of RDDs:\n",
        "\n",
        "- Immutable: Once an RDD is created, it cannot be modified. \n",
        "- Lazily Evaluated: RDDs will not be evaluated until an action is triggered. Essentially, when RDDs are created, they are programmed to perform some action, but that function will not get activated until it is explicitly called. The reason for lazy evaluation is that allows users to organize the actions of their Spark program into smaller actions. It also saves unnecessary computation and memory load.\n",
        "- In-Memory: The operations in Spark are performed in-memory rather than in the database. This is what allows Spark to perform fast operations with very large quantities of data.\n",
        "\n",
        "\n"
      ]
    },
    {
      "cell_type": "markdown",
      "metadata": {
        "id": "IkQZEDs9MfID",
        "colab_type": "text"
      },
      "source": [
        "### RDD Transformations vs Actions\n",
        "\n",
        "In Spark, we first create a __base RDD__ and then apply one or more transformations to that base RDD following our processing needs. Being immutable means, **once an RDD is created, it cannot be changed**. As a result, **each transformation of an RDD creates a new RDD**. Finally, we can apply one or more **actions** to the RDDs. Spark uses lazy evaluation, so transformations are not actually executed until an action occurs.\n",
        "\n",
        "\n",
        "<img src=\"https://github.com/jammy-bot/dsc-resilient-distributed-datasets-rdd-lab-online-ds-ft-120919/blob/master/images/rdd_diagram.png?raw=1\" width=500>"
      ]
    },
    {
      "cell_type": "markdown",
      "metadata": {
        "id": "NkD71b_zMfIE",
        "colab_type": "text"
      },
      "source": [
        "### Transformations\n",
        "\n",
        "Transformations create a new dataset from an existing one by passing each dataset element through a function and returning a new RDD representing the results. In short, creating an RDD from an existing RDD is ‘transformation’.\n",
        "All transformations in Spark are lazy. They do not compute their results right away. Instead, they just remember the transformations applied to some base dataset (e.g. a file). The transformations are only computed when an action requires a result that needs to be returned to the driver program.\n",
        "A transformation is an RDD that returns another RDD, like map, flatMap, filter, reduceByKey, join, cogroup, etc.\n",
        "\n",
        "### Actions\n",
        "Actions return final results of RDD computations. Actions trigger execution using lineage graph to load the data into original RDD and carry out all intermediate transformations and return the final results to the driver program or writes it out to the file system. An action returns a value (to a Spark driver - the user program).\n",
        "\n",
        "Here are some key transformations and actions that we will explore.\n",
        "\n",
        "\n",
        "| Transformations   | Actions       |\n",
        "|-------------------|---------------|\n",
        "| map(func)         | reduce(func)  |\n",
        "| filter(func)      | collect()     |\n",
        "| groupByKey()      | count()       |\n",
        "| reduceByKey(func) | first()       |\n",
        "| mapValues(func)   | take()        |\n",
        "| sample()          | countByKey()  |\n",
        "| distinct()        | foreach(func) |\n",
        "| sortByKey()       |               |\n"
      ]
    },
    {
      "cell_type": "markdown",
      "metadata": {
        "id": "ZssRku0YMfIF",
        "colab_type": "text"
      },
      "source": [
        "Let's see how transformations and actions work through a simple example. In this example, we will perform several actions and transformations on RDDs in order to obtain a better understanding of Spark processing. \n",
        "\n",
        "### Create a Python collection \n",
        "\n",
        "We need some data to start experimenting with RDDs. Let's create some sample data and see how RDDs handle it. To practice working with RDDs, we're going to use a simple Python list.\n",
        "\n",
        "- Create a Python list `data` of integers between 1 and 1000 using the `range()` function. \n",
        "- Sanity check: confirm the length of the list (it should be 1000)"
      ]
    },
    {
      "cell_type": "code",
      "metadata": {
        "id": "tyuOUhGYMfIF",
        "colab_type": "code",
        "outputId": "9b1ca0b0-df99-4138-f853-a9a551b8339b",
        "colab": {
          "base_uri": "https://localhost:8080/",
          "height": 34
        }
      },
      "source": [
        "data = list(range(1, 1001))\n",
        "len(data)\n",
        "\n",
        "# 1000"
      ],
      "execution_count": 0,
      "outputs": [
        {
          "output_type": "execute_result",
          "data": {
            "text/plain": [
              "1000"
            ]
          },
          "metadata": {
            "tags": []
          },
          "execution_count": 6
        }
      ]
    },
    {
      "cell_type": "markdown",
      "metadata": {
        "id": "Ohfggg0eMfIK",
        "colab_type": "text"
      },
      "source": [
        "### Initialize an RDD\n",
        "\n",
        "When using Spark to make computations, datasets are treated as lists of entries. Those lists are split into different partitions across different cores or different computers. Each list of data held in memory is a partition of the RDD. The reason why Spark is able to make computations far faster than other big data processing languages is that it allows all data to be stored __in-memory__, which allows for easy access to the data and, in turn, high-speed processing. Here is an example of how the alphabet might be split into different RDDs and held across a distributed collection of nodes:\n",
        "\n",
        "<img src =\"./images/partitions_1.png\" width =\"500\">  \n",
        "To initialize an RDD, first import `pyspark` and then create a SparkContext assigned to the variable `sc`. Use `'local[*]'` as the master."
      ]
    },
    {
      "cell_type": "code",
      "metadata": {
        "id": "qG6XF_a8MfIL",
        "colab_type": "code",
        "colab": {}
      },
      "source": [
        "# import pyspark\n",
        "# sc = pyspark.SparkContext('local[*]')\n",
        "## already created"
      ],
      "execution_count": 0,
      "outputs": []
    },
    {
      "cell_type": "markdown",
      "metadata": {
        "id": "uRgY6T87MfIO",
        "colab_type": "text"
      },
      "source": [
        "Once you've created the SparkContext, you can use the `.parallelize()` method to create an RDD that will distribute the list of numbers across multiple cores. Here, create one called `rdd` with 10 partitions using `data` as the collection you are parallelizing."
      ]
    },
    {
      "cell_type": "code",
      "metadata": {
        "id": "jS6-JLgJMfIP",
        "colab_type": "code",
        "outputId": "aec094bd-f2c7-43a3-b852-d172a7515f20",
        "colab": {
          "base_uri": "https://localhost:8080/",
          "height": 34
        }
      },
      "source": [
        "rdd = sc.parallelize(data, numSlices=10)\n",
        "print(type(rdd))\n",
        "# <class 'pyspark.rdd.RDD'>"
      ],
      "execution_count": 0,
      "outputs": [
        {
          "output_type": "stream",
          "text": [
            "<class 'pyspark.rdd.RDD'>\n"
          ],
          "name": "stdout"
        }
      ]
    },
    {
      "cell_type": "markdown",
      "metadata": {
        "id": "MQGk5-HKMfIS",
        "colab_type": "text"
      },
      "source": [
        "Determine how many partitions are being used with this RDD with the `.getNumPartitions()` method."
      ]
    },
    {
      "cell_type": "code",
      "metadata": {
        "id": "DcD4zK8aMfIT",
        "colab_type": "code",
        "outputId": "9bd0752f-b4a5-4030-de8f-11812ff96d1c",
        "colab": {
          "base_uri": "https://localhost:8080/",
          "height": 34
        }
      },
      "source": [
        "rdd.getNumPartitions()\n",
        "# 10"
      ],
      "execution_count": 0,
      "outputs": [
        {
          "output_type": "execute_result",
          "data": {
            "text/plain": [
              "10"
            ]
          },
          "metadata": {
            "tags": []
          },
          "execution_count": 11
        }
      ]
    },
    {
      "cell_type": "markdown",
      "metadata": {
        "id": "DYI0zRUiMfIW",
        "colab_type": "text"
      },
      "source": [
        "### Basic descriptive RDD actions\n",
        "\n",
        "Let's perform some basic operations on our RDD. In the cell below, use the methods:\n",
        "* `count`: returns the total count of items in the RDD \n",
        "* `first`: returns the first item in the RDD\n",
        "* `take`: returns the first `n` items in the RDD\n",
        "* `top`: returns the top `n` items\n",
        "* `collect`: returns everything from your RDD\n",
        "\n",
        "\n",
        "It's important to note that in a big data context, calling the collect method will often take a very long time to execute and should be handled with care!"
      ]
    },
    {
      "cell_type": "code",
      "metadata": {
        "scrolled": true,
        "id": "A6VpFa6xMfIX",
        "colab_type": "code",
        "outputId": "878d59ec-d4da-423e-82bc-8712885263df",
        "colab": {
          "base_uri": "https://localhost:8080/",
          "height": 34
        }
      },
      "source": [
        "# count\n",
        "rdd.count()"
      ],
      "execution_count": 0,
      "outputs": [
        {
          "output_type": "execute_result",
          "data": {
            "text/plain": [
              "1000"
            ]
          },
          "metadata": {
            "tags": []
          },
          "execution_count": 13
        }
      ]
    },
    {
      "cell_type": "code",
      "metadata": {
        "id": "t8j0p21nMfIb",
        "colab_type": "code",
        "outputId": "e8ec95b6-2825-4686-c7fb-cf2d4ec698cc",
        "colab": {
          "base_uri": "https://localhost:8080/",
          "height": 34
        }
      },
      "source": [
        "# first\n",
        "rdd.first()"
      ],
      "execution_count": 0,
      "outputs": [
        {
          "output_type": "execute_result",
          "data": {
            "text/plain": [
              "1"
            ]
          },
          "metadata": {
            "tags": []
          },
          "execution_count": 14
        }
      ]
    },
    {
      "cell_type": "code",
      "metadata": {
        "id": "7tDyjXQEMfIe",
        "colab_type": "code",
        "outputId": "d12827a4-ea3a-4814-8855-f5a22a92e8db",
        "colab": {
          "base_uri": "https://localhost:8080/",
          "height": 34
        }
      },
      "source": [
        "# take\n",
        "rdd.take(10)"
      ],
      "execution_count": 0,
      "outputs": [
        {
          "output_type": "execute_result",
          "data": {
            "text/plain": [
              "[1, 2, 3, 4, 5, 6, 7, 8, 9, 10]"
            ]
          },
          "metadata": {
            "tags": []
          },
          "execution_count": 16
        }
      ]
    },
    {
      "cell_type": "code",
      "metadata": {
        "id": "pMKeXXqdMfIh",
        "colab_type": "code",
        "outputId": "981b1584-9e5d-46ef-8253-c70c03819fdb",
        "colab": {
          "base_uri": "https://localhost:8080/",
          "height": 34
        }
      },
      "source": [
        "# top\n",
        "rdd.top(10)"
      ],
      "execution_count": 0,
      "outputs": [
        {
          "output_type": "execute_result",
          "data": {
            "text/plain": [
              "[1000, 999, 998, 997, 996, 995, 994, 993, 992, 991]"
            ]
          },
          "metadata": {
            "tags": []
          },
          "execution_count": 17
        }
      ]
    },
    {
      "cell_type": "code",
      "metadata": {
        "scrolled": true,
        "id": "f6pDqhlSMfIl",
        "colab_type": "code",
        "outputId": "9029566d-a8bb-4087-dac0-a37eb360f0e4",
        "colab": {
          "base_uri": "https://localhost:8080/",
          "height": 1000
        }
      },
      "source": [
        "# collect\n",
        "rdd.collect()"
      ],
      "execution_count": 0,
      "outputs": [
        {
          "output_type": "execute_result",
          "data": {
            "text/plain": [
              "[1,\n",
              " 2,\n",
              " 3,\n",
              " 4,\n",
              " 5,\n",
              " 6,\n",
              " 7,\n",
              " 8,\n",
              " 9,\n",
              " 10,\n",
              " 11,\n",
              " 12,\n",
              " 13,\n",
              " 14,\n",
              " 15,\n",
              " 16,\n",
              " 17,\n",
              " 18,\n",
              " 19,\n",
              " 20,\n",
              " 21,\n",
              " 22,\n",
              " 23,\n",
              " 24,\n",
              " 25,\n",
              " 26,\n",
              " 27,\n",
              " 28,\n",
              " 29,\n",
              " 30,\n",
              " 31,\n",
              " 32,\n",
              " 33,\n",
              " 34,\n",
              " 35,\n",
              " 36,\n",
              " 37,\n",
              " 38,\n",
              " 39,\n",
              " 40,\n",
              " 41,\n",
              " 42,\n",
              " 43,\n",
              " 44,\n",
              " 45,\n",
              " 46,\n",
              " 47,\n",
              " 48,\n",
              " 49,\n",
              " 50,\n",
              " 51,\n",
              " 52,\n",
              " 53,\n",
              " 54,\n",
              " 55,\n",
              " 56,\n",
              " 57,\n",
              " 58,\n",
              " 59,\n",
              " 60,\n",
              " 61,\n",
              " 62,\n",
              " 63,\n",
              " 64,\n",
              " 65,\n",
              " 66,\n",
              " 67,\n",
              " 68,\n",
              " 69,\n",
              " 70,\n",
              " 71,\n",
              " 72,\n",
              " 73,\n",
              " 74,\n",
              " 75,\n",
              " 76,\n",
              " 77,\n",
              " 78,\n",
              " 79,\n",
              " 80,\n",
              " 81,\n",
              " 82,\n",
              " 83,\n",
              " 84,\n",
              " 85,\n",
              " 86,\n",
              " 87,\n",
              " 88,\n",
              " 89,\n",
              " 90,\n",
              " 91,\n",
              " 92,\n",
              " 93,\n",
              " 94,\n",
              " 95,\n",
              " 96,\n",
              " 97,\n",
              " 98,\n",
              " 99,\n",
              " 100,\n",
              " 101,\n",
              " 102,\n",
              " 103,\n",
              " 104,\n",
              " 105,\n",
              " 106,\n",
              " 107,\n",
              " 108,\n",
              " 109,\n",
              " 110,\n",
              " 111,\n",
              " 112,\n",
              " 113,\n",
              " 114,\n",
              " 115,\n",
              " 116,\n",
              " 117,\n",
              " 118,\n",
              " 119,\n",
              " 120,\n",
              " 121,\n",
              " 122,\n",
              " 123,\n",
              " 124,\n",
              " 125,\n",
              " 126,\n",
              " 127,\n",
              " 128,\n",
              " 129,\n",
              " 130,\n",
              " 131,\n",
              " 132,\n",
              " 133,\n",
              " 134,\n",
              " 135,\n",
              " 136,\n",
              " 137,\n",
              " 138,\n",
              " 139,\n",
              " 140,\n",
              " 141,\n",
              " 142,\n",
              " 143,\n",
              " 144,\n",
              " 145,\n",
              " 146,\n",
              " 147,\n",
              " 148,\n",
              " 149,\n",
              " 150,\n",
              " 151,\n",
              " 152,\n",
              " 153,\n",
              " 154,\n",
              " 155,\n",
              " 156,\n",
              " 157,\n",
              " 158,\n",
              " 159,\n",
              " 160,\n",
              " 161,\n",
              " 162,\n",
              " 163,\n",
              " 164,\n",
              " 165,\n",
              " 166,\n",
              " 167,\n",
              " 168,\n",
              " 169,\n",
              " 170,\n",
              " 171,\n",
              " 172,\n",
              " 173,\n",
              " 174,\n",
              " 175,\n",
              " 176,\n",
              " 177,\n",
              " 178,\n",
              " 179,\n",
              " 180,\n",
              " 181,\n",
              " 182,\n",
              " 183,\n",
              " 184,\n",
              " 185,\n",
              " 186,\n",
              " 187,\n",
              " 188,\n",
              " 189,\n",
              " 190,\n",
              " 191,\n",
              " 192,\n",
              " 193,\n",
              " 194,\n",
              " 195,\n",
              " 196,\n",
              " 197,\n",
              " 198,\n",
              " 199,\n",
              " 200,\n",
              " 201,\n",
              " 202,\n",
              " 203,\n",
              " 204,\n",
              " 205,\n",
              " 206,\n",
              " 207,\n",
              " 208,\n",
              " 209,\n",
              " 210,\n",
              " 211,\n",
              " 212,\n",
              " 213,\n",
              " 214,\n",
              " 215,\n",
              " 216,\n",
              " 217,\n",
              " 218,\n",
              " 219,\n",
              " 220,\n",
              " 221,\n",
              " 222,\n",
              " 223,\n",
              " 224,\n",
              " 225,\n",
              " 226,\n",
              " 227,\n",
              " 228,\n",
              " 229,\n",
              " 230,\n",
              " 231,\n",
              " 232,\n",
              " 233,\n",
              " 234,\n",
              " 235,\n",
              " 236,\n",
              " 237,\n",
              " 238,\n",
              " 239,\n",
              " 240,\n",
              " 241,\n",
              " 242,\n",
              " 243,\n",
              " 244,\n",
              " 245,\n",
              " 246,\n",
              " 247,\n",
              " 248,\n",
              " 249,\n",
              " 250,\n",
              " 251,\n",
              " 252,\n",
              " 253,\n",
              " 254,\n",
              " 255,\n",
              " 256,\n",
              " 257,\n",
              " 258,\n",
              " 259,\n",
              " 260,\n",
              " 261,\n",
              " 262,\n",
              " 263,\n",
              " 264,\n",
              " 265,\n",
              " 266,\n",
              " 267,\n",
              " 268,\n",
              " 269,\n",
              " 270,\n",
              " 271,\n",
              " 272,\n",
              " 273,\n",
              " 274,\n",
              " 275,\n",
              " 276,\n",
              " 277,\n",
              " 278,\n",
              " 279,\n",
              " 280,\n",
              " 281,\n",
              " 282,\n",
              " 283,\n",
              " 284,\n",
              " 285,\n",
              " 286,\n",
              " 287,\n",
              " 288,\n",
              " 289,\n",
              " 290,\n",
              " 291,\n",
              " 292,\n",
              " 293,\n",
              " 294,\n",
              " 295,\n",
              " 296,\n",
              " 297,\n",
              " 298,\n",
              " 299,\n",
              " 300,\n",
              " 301,\n",
              " 302,\n",
              " 303,\n",
              " 304,\n",
              " 305,\n",
              " 306,\n",
              " 307,\n",
              " 308,\n",
              " 309,\n",
              " 310,\n",
              " 311,\n",
              " 312,\n",
              " 313,\n",
              " 314,\n",
              " 315,\n",
              " 316,\n",
              " 317,\n",
              " 318,\n",
              " 319,\n",
              " 320,\n",
              " 321,\n",
              " 322,\n",
              " 323,\n",
              " 324,\n",
              " 325,\n",
              " 326,\n",
              " 327,\n",
              " 328,\n",
              " 329,\n",
              " 330,\n",
              " 331,\n",
              " 332,\n",
              " 333,\n",
              " 334,\n",
              " 335,\n",
              " 336,\n",
              " 337,\n",
              " 338,\n",
              " 339,\n",
              " 340,\n",
              " 341,\n",
              " 342,\n",
              " 343,\n",
              " 344,\n",
              " 345,\n",
              " 346,\n",
              " 347,\n",
              " 348,\n",
              " 349,\n",
              " 350,\n",
              " 351,\n",
              " 352,\n",
              " 353,\n",
              " 354,\n",
              " 355,\n",
              " 356,\n",
              " 357,\n",
              " 358,\n",
              " 359,\n",
              " 360,\n",
              " 361,\n",
              " 362,\n",
              " 363,\n",
              " 364,\n",
              " 365,\n",
              " 366,\n",
              " 367,\n",
              " 368,\n",
              " 369,\n",
              " 370,\n",
              " 371,\n",
              " 372,\n",
              " 373,\n",
              " 374,\n",
              " 375,\n",
              " 376,\n",
              " 377,\n",
              " 378,\n",
              " 379,\n",
              " 380,\n",
              " 381,\n",
              " 382,\n",
              " 383,\n",
              " 384,\n",
              " 385,\n",
              " 386,\n",
              " 387,\n",
              " 388,\n",
              " 389,\n",
              " 390,\n",
              " 391,\n",
              " 392,\n",
              " 393,\n",
              " 394,\n",
              " 395,\n",
              " 396,\n",
              " 397,\n",
              " 398,\n",
              " 399,\n",
              " 400,\n",
              " 401,\n",
              " 402,\n",
              " 403,\n",
              " 404,\n",
              " 405,\n",
              " 406,\n",
              " 407,\n",
              " 408,\n",
              " 409,\n",
              " 410,\n",
              " 411,\n",
              " 412,\n",
              " 413,\n",
              " 414,\n",
              " 415,\n",
              " 416,\n",
              " 417,\n",
              " 418,\n",
              " 419,\n",
              " 420,\n",
              " 421,\n",
              " 422,\n",
              " 423,\n",
              " 424,\n",
              " 425,\n",
              " 426,\n",
              " 427,\n",
              " 428,\n",
              " 429,\n",
              " 430,\n",
              " 431,\n",
              " 432,\n",
              " 433,\n",
              " 434,\n",
              " 435,\n",
              " 436,\n",
              " 437,\n",
              " 438,\n",
              " 439,\n",
              " 440,\n",
              " 441,\n",
              " 442,\n",
              " 443,\n",
              " 444,\n",
              " 445,\n",
              " 446,\n",
              " 447,\n",
              " 448,\n",
              " 449,\n",
              " 450,\n",
              " 451,\n",
              " 452,\n",
              " 453,\n",
              " 454,\n",
              " 455,\n",
              " 456,\n",
              " 457,\n",
              " 458,\n",
              " 459,\n",
              " 460,\n",
              " 461,\n",
              " 462,\n",
              " 463,\n",
              " 464,\n",
              " 465,\n",
              " 466,\n",
              " 467,\n",
              " 468,\n",
              " 469,\n",
              " 470,\n",
              " 471,\n",
              " 472,\n",
              " 473,\n",
              " 474,\n",
              " 475,\n",
              " 476,\n",
              " 477,\n",
              " 478,\n",
              " 479,\n",
              " 480,\n",
              " 481,\n",
              " 482,\n",
              " 483,\n",
              " 484,\n",
              " 485,\n",
              " 486,\n",
              " 487,\n",
              " 488,\n",
              " 489,\n",
              " 490,\n",
              " 491,\n",
              " 492,\n",
              " 493,\n",
              " 494,\n",
              " 495,\n",
              " 496,\n",
              " 497,\n",
              " 498,\n",
              " 499,\n",
              " 500,\n",
              " 501,\n",
              " 502,\n",
              " 503,\n",
              " 504,\n",
              " 505,\n",
              " 506,\n",
              " 507,\n",
              " 508,\n",
              " 509,\n",
              " 510,\n",
              " 511,\n",
              " 512,\n",
              " 513,\n",
              " 514,\n",
              " 515,\n",
              " 516,\n",
              " 517,\n",
              " 518,\n",
              " 519,\n",
              " 520,\n",
              " 521,\n",
              " 522,\n",
              " 523,\n",
              " 524,\n",
              " 525,\n",
              " 526,\n",
              " 527,\n",
              " 528,\n",
              " 529,\n",
              " 530,\n",
              " 531,\n",
              " 532,\n",
              " 533,\n",
              " 534,\n",
              " 535,\n",
              " 536,\n",
              " 537,\n",
              " 538,\n",
              " 539,\n",
              " 540,\n",
              " 541,\n",
              " 542,\n",
              " 543,\n",
              " 544,\n",
              " 545,\n",
              " 546,\n",
              " 547,\n",
              " 548,\n",
              " 549,\n",
              " 550,\n",
              " 551,\n",
              " 552,\n",
              " 553,\n",
              " 554,\n",
              " 555,\n",
              " 556,\n",
              " 557,\n",
              " 558,\n",
              " 559,\n",
              " 560,\n",
              " 561,\n",
              " 562,\n",
              " 563,\n",
              " 564,\n",
              " 565,\n",
              " 566,\n",
              " 567,\n",
              " 568,\n",
              " 569,\n",
              " 570,\n",
              " 571,\n",
              " 572,\n",
              " 573,\n",
              " 574,\n",
              " 575,\n",
              " 576,\n",
              " 577,\n",
              " 578,\n",
              " 579,\n",
              " 580,\n",
              " 581,\n",
              " 582,\n",
              " 583,\n",
              " 584,\n",
              " 585,\n",
              " 586,\n",
              " 587,\n",
              " 588,\n",
              " 589,\n",
              " 590,\n",
              " 591,\n",
              " 592,\n",
              " 593,\n",
              " 594,\n",
              " 595,\n",
              " 596,\n",
              " 597,\n",
              " 598,\n",
              " 599,\n",
              " 600,\n",
              " 601,\n",
              " 602,\n",
              " 603,\n",
              " 604,\n",
              " 605,\n",
              " 606,\n",
              " 607,\n",
              " 608,\n",
              " 609,\n",
              " 610,\n",
              " 611,\n",
              " 612,\n",
              " 613,\n",
              " 614,\n",
              " 615,\n",
              " 616,\n",
              " 617,\n",
              " 618,\n",
              " 619,\n",
              " 620,\n",
              " 621,\n",
              " 622,\n",
              " 623,\n",
              " 624,\n",
              " 625,\n",
              " 626,\n",
              " 627,\n",
              " 628,\n",
              " 629,\n",
              " 630,\n",
              " 631,\n",
              " 632,\n",
              " 633,\n",
              " 634,\n",
              " 635,\n",
              " 636,\n",
              " 637,\n",
              " 638,\n",
              " 639,\n",
              " 640,\n",
              " 641,\n",
              " 642,\n",
              " 643,\n",
              " 644,\n",
              " 645,\n",
              " 646,\n",
              " 647,\n",
              " 648,\n",
              " 649,\n",
              " 650,\n",
              " 651,\n",
              " 652,\n",
              " 653,\n",
              " 654,\n",
              " 655,\n",
              " 656,\n",
              " 657,\n",
              " 658,\n",
              " 659,\n",
              " 660,\n",
              " 661,\n",
              " 662,\n",
              " 663,\n",
              " 664,\n",
              " 665,\n",
              " 666,\n",
              " 667,\n",
              " 668,\n",
              " 669,\n",
              " 670,\n",
              " 671,\n",
              " 672,\n",
              " 673,\n",
              " 674,\n",
              " 675,\n",
              " 676,\n",
              " 677,\n",
              " 678,\n",
              " 679,\n",
              " 680,\n",
              " 681,\n",
              " 682,\n",
              " 683,\n",
              " 684,\n",
              " 685,\n",
              " 686,\n",
              " 687,\n",
              " 688,\n",
              " 689,\n",
              " 690,\n",
              " 691,\n",
              " 692,\n",
              " 693,\n",
              " 694,\n",
              " 695,\n",
              " 696,\n",
              " 697,\n",
              " 698,\n",
              " 699,\n",
              " 700,\n",
              " 701,\n",
              " 702,\n",
              " 703,\n",
              " 704,\n",
              " 705,\n",
              " 706,\n",
              " 707,\n",
              " 708,\n",
              " 709,\n",
              " 710,\n",
              " 711,\n",
              " 712,\n",
              " 713,\n",
              " 714,\n",
              " 715,\n",
              " 716,\n",
              " 717,\n",
              " 718,\n",
              " 719,\n",
              " 720,\n",
              " 721,\n",
              " 722,\n",
              " 723,\n",
              " 724,\n",
              " 725,\n",
              " 726,\n",
              " 727,\n",
              " 728,\n",
              " 729,\n",
              " 730,\n",
              " 731,\n",
              " 732,\n",
              " 733,\n",
              " 734,\n",
              " 735,\n",
              " 736,\n",
              " 737,\n",
              " 738,\n",
              " 739,\n",
              " 740,\n",
              " 741,\n",
              " 742,\n",
              " 743,\n",
              " 744,\n",
              " 745,\n",
              " 746,\n",
              " 747,\n",
              " 748,\n",
              " 749,\n",
              " 750,\n",
              " 751,\n",
              " 752,\n",
              " 753,\n",
              " 754,\n",
              " 755,\n",
              " 756,\n",
              " 757,\n",
              " 758,\n",
              " 759,\n",
              " 760,\n",
              " 761,\n",
              " 762,\n",
              " 763,\n",
              " 764,\n",
              " 765,\n",
              " 766,\n",
              " 767,\n",
              " 768,\n",
              " 769,\n",
              " 770,\n",
              " 771,\n",
              " 772,\n",
              " 773,\n",
              " 774,\n",
              " 775,\n",
              " 776,\n",
              " 777,\n",
              " 778,\n",
              " 779,\n",
              " 780,\n",
              " 781,\n",
              " 782,\n",
              " 783,\n",
              " 784,\n",
              " 785,\n",
              " 786,\n",
              " 787,\n",
              " 788,\n",
              " 789,\n",
              " 790,\n",
              " 791,\n",
              " 792,\n",
              " 793,\n",
              " 794,\n",
              " 795,\n",
              " 796,\n",
              " 797,\n",
              " 798,\n",
              " 799,\n",
              " 800,\n",
              " 801,\n",
              " 802,\n",
              " 803,\n",
              " 804,\n",
              " 805,\n",
              " 806,\n",
              " 807,\n",
              " 808,\n",
              " 809,\n",
              " 810,\n",
              " 811,\n",
              " 812,\n",
              " 813,\n",
              " 814,\n",
              " 815,\n",
              " 816,\n",
              " 817,\n",
              " 818,\n",
              " 819,\n",
              " 820,\n",
              " 821,\n",
              " 822,\n",
              " 823,\n",
              " 824,\n",
              " 825,\n",
              " 826,\n",
              " 827,\n",
              " 828,\n",
              " 829,\n",
              " 830,\n",
              " 831,\n",
              " 832,\n",
              " 833,\n",
              " 834,\n",
              " 835,\n",
              " 836,\n",
              " 837,\n",
              " 838,\n",
              " 839,\n",
              " 840,\n",
              " 841,\n",
              " 842,\n",
              " 843,\n",
              " 844,\n",
              " 845,\n",
              " 846,\n",
              " 847,\n",
              " 848,\n",
              " 849,\n",
              " 850,\n",
              " 851,\n",
              " 852,\n",
              " 853,\n",
              " 854,\n",
              " 855,\n",
              " 856,\n",
              " 857,\n",
              " 858,\n",
              " 859,\n",
              " 860,\n",
              " 861,\n",
              " 862,\n",
              " 863,\n",
              " 864,\n",
              " 865,\n",
              " 866,\n",
              " 867,\n",
              " 868,\n",
              " 869,\n",
              " 870,\n",
              " 871,\n",
              " 872,\n",
              " 873,\n",
              " 874,\n",
              " 875,\n",
              " 876,\n",
              " 877,\n",
              " 878,\n",
              " 879,\n",
              " 880,\n",
              " 881,\n",
              " 882,\n",
              " 883,\n",
              " 884,\n",
              " 885,\n",
              " 886,\n",
              " 887,\n",
              " 888,\n",
              " 889,\n",
              " 890,\n",
              " 891,\n",
              " 892,\n",
              " 893,\n",
              " 894,\n",
              " 895,\n",
              " 896,\n",
              " 897,\n",
              " 898,\n",
              " 899,\n",
              " 900,\n",
              " 901,\n",
              " 902,\n",
              " 903,\n",
              " 904,\n",
              " 905,\n",
              " 906,\n",
              " 907,\n",
              " 908,\n",
              " 909,\n",
              " 910,\n",
              " 911,\n",
              " 912,\n",
              " 913,\n",
              " 914,\n",
              " 915,\n",
              " 916,\n",
              " 917,\n",
              " 918,\n",
              " 919,\n",
              " 920,\n",
              " 921,\n",
              " 922,\n",
              " 923,\n",
              " 924,\n",
              " 925,\n",
              " 926,\n",
              " 927,\n",
              " 928,\n",
              " 929,\n",
              " 930,\n",
              " 931,\n",
              " 932,\n",
              " 933,\n",
              " 934,\n",
              " 935,\n",
              " 936,\n",
              " 937,\n",
              " 938,\n",
              " 939,\n",
              " 940,\n",
              " 941,\n",
              " 942,\n",
              " 943,\n",
              " 944,\n",
              " 945,\n",
              " 946,\n",
              " 947,\n",
              " 948,\n",
              " 949,\n",
              " 950,\n",
              " 951,\n",
              " 952,\n",
              " 953,\n",
              " 954,\n",
              " 955,\n",
              " 956,\n",
              " 957,\n",
              " 958,\n",
              " 959,\n",
              " 960,\n",
              " 961,\n",
              " 962,\n",
              " 963,\n",
              " 964,\n",
              " 965,\n",
              " 966,\n",
              " 967,\n",
              " 968,\n",
              " 969,\n",
              " 970,\n",
              " 971,\n",
              " 972,\n",
              " 973,\n",
              " 974,\n",
              " 975,\n",
              " 976,\n",
              " 977,\n",
              " 978,\n",
              " 979,\n",
              " 980,\n",
              " 981,\n",
              " 982,\n",
              " 983,\n",
              " 984,\n",
              " 985,\n",
              " 986,\n",
              " 987,\n",
              " 988,\n",
              " 989,\n",
              " 990,\n",
              " 991,\n",
              " 992,\n",
              " 993,\n",
              " 994,\n",
              " 995,\n",
              " 996,\n",
              " 997,\n",
              " 998,\n",
              " 999,\n",
              " 1000]"
            ]
          },
          "metadata": {
            "tags": []
          },
          "execution_count": 18
        }
      ]
    },
    {
      "cell_type": "markdown",
      "metadata": {
        "id": "linvx2wrMfIo",
        "colab_type": "text"
      },
      "source": [
        "## Map functions\n",
        "\n",
        "Now that you've been working a little bit with RDDs, let's make this a little more interesting. Imagine you're running a hot new e-commerce startup called BuyStuff, and you're trying to track of how much it charges customers from each item sold. In the next cell, we're going to create simulated data by multiplying the values 1-1000 with a random number from 0-1."
      ]
    },
    {
      "cell_type": "code",
      "metadata": {
        "id": "Nsq0T_hYMfIp",
        "colab_type": "code",
        "outputId": "8c8fe9d4-5e7f-45ac-ed96-09b52c70f7bb",
        "colab": {
          "base_uri": "https://localhost:8080/",
          "height": 1000
        }
      },
      "source": [
        "import random\n",
        "import numpy as np\n",
        "\n",
        "nums = np.array(range(1, 1001))\n",
        "sales_figures = nums * np.random.rand(1000)\n",
        "sales_figures"
      ],
      "execution_count": 0,
      "outputs": [
        {
          "output_type": "execute_result",
          "data": {
            "text/plain": [
              "array([2.50327289e-01, 5.92313976e-02, 2.09666608e+00, 2.36596543e+00,\n",
              "       2.48515093e+00, 2.41816739e+00, 5.21428288e+00, 2.08508696e+00,\n",
              "       2.52246432e+00, 4.28984170e+00, 1.38873112e+00, 2.37438450e+00,\n",
              "       6.06612492e+00, 1.00479389e+01, 1.75063084e+00, 1.55514048e+01,\n",
              "       1.89506782e+00, 6.43089327e+00, 2.33076105e+00, 1.71675720e+01,\n",
              "       5.20128318e+00, 1.91587061e+01, 1.55126189e+01, 1.24490555e+01,\n",
              "       2.40467333e+01, 2.41916409e+01, 2.00282319e+01, 1.95152325e+01,\n",
              "       2.55210342e+01, 1.37620377e+01, 2.70688330e+01, 2.85974300e+01,\n",
              "       3.27714635e+01, 8.78856322e+00, 2.61507384e+01, 2.12924935e+01,\n",
              "       2.06216404e+01, 1.80957102e+00, 1.56784273e+00, 7.70190251e+00,\n",
              "       1.94516281e+01, 4.18782909e+01, 2.57788039e+01, 8.12591703e+00,\n",
              "       3.39529502e+01, 2.44313671e+01, 4.69449474e+01, 1.88230575e+01,\n",
              "       4.68409575e+01, 3.83118587e+00, 1.05527387e+01, 1.34498043e+01,\n",
              "       1.53355299e+01, 3.53032166e+01, 4.74403396e+01, 5.37723817e+01,\n",
              "       1.05745322e+01, 4.28309278e+01, 2.35677945e+01, 4.48976940e+01,\n",
              "       5.07244762e+01, 1.12162460e+01, 4.26065416e+01, 2.74495515e+01,\n",
              "       1.46815378e+01, 3.01680013e+00, 5.48063082e+01, 3.34075707e+01,\n",
              "       4.17565949e+01, 6.53571456e+00, 5.14199220e+01, 7.03772819e+01,\n",
              "       6.81939375e+01, 6.13896858e+01, 3.85104038e+01, 1.22324420e+01,\n",
              "       6.73279573e+01, 3.62994519e+01, 4.60356652e+01, 3.67349203e+01,\n",
              "       6.73218283e+01, 6.70130279e+01, 6.21889476e+01, 2.75393557e+01,\n",
              "       8.12265608e+01, 3.54476775e+01, 5.48305662e+01, 5.49792904e+01,\n",
              "       8.39542694e+01, 7.17901131e+01, 2.90674174e+01, 3.71869621e+01,\n",
              "       3.64264495e+01, 8.63900985e+01, 6.98119102e+01, 3.33209695e+01,\n",
              "       8.79246238e+01, 2.54962408e+01, 1.17877991e+01, 4.99907098e+00,\n",
              "       4.65764055e+01, 7.57876554e+01, 7.71426445e+01, 1.85758060e+01,\n",
              "       6.86271966e+01, 4.73899956e+01, 1.05915662e+02, 1.48223911e+01,\n",
              "       3.64943492e+00, 1.65991521e+01, 1.00354289e+02, 3.91353379e+01,\n",
              "       5.88954057e+01, 7.01642829e+01, 1.09427977e+02, 6.41008822e+01,\n",
              "       1.47490500e+00, 3.99579813e+01, 5.02779341e+01, 4.10456341e+00,\n",
              "       3.12333754e+01, 3.91650344e+01, 4.76299325e+01, 5.62086639e+01,\n",
              "       1.02494083e+01, 2.63973799e+01, 1.47123626e+00, 2.40589139e+00,\n",
              "       7.09624835e+01, 9.24009197e+01, 1.19420253e+02, 1.13518566e+02,\n",
              "       1.17289129e+02, 6.56669271e+01, 3.16775271e+01, 2.94210746e+01,\n",
              "       8.97615114e+01, 4.07332056e+01, 8.65209780e+01, 6.99238366e+01,\n",
              "       3.26064463e+00, 1.29987688e+02, 1.00807396e+02, 1.94131256e+01,\n",
              "       8.73621207e+01, 5.71015882e+01, 6.07427698e+01, 7.55129263e+01,\n",
              "       6.70722957e+01, 6.94669702e+01, 1.24005216e+02, 1.32384578e+02,\n",
              "       2.55110677e+01, 4.55349110e+01, 4.56585104e+01, 8.90621631e+01,\n",
              "       1.38568360e+00, 5.97676847e+01, 1.29366629e+01, 9.91821264e+01,\n",
              "       1.41416383e+02, 1.19427722e+02, 1.14654004e+02, 4.48666575e+01,\n",
              "       1.03423443e+02, 8.45672651e+01, 9.08129919e+01, 4.12543489e+01,\n",
              "       6.37181371e+01, 1.24769586e+02, 5.02611408e+01, 1.42367054e+02,\n",
              "       1.45067450e+02, 7.58919304e+01, 1.22997192e+02, 1.22510974e+02,\n",
              "       6.11089620e+01, 2.17934827e+01, 1.29867834e+02, 1.14431235e+02,\n",
              "       1.45760955e+02, 3.86491109e+01, 4.06860195e+01, 1.81467748e+02,\n",
              "       1.00406236e+02, 5.83041056e+01, 1.94067095e+01, 6.50369456e+01,\n",
              "       1.39911170e+02, 1.76068227e+02, 7.54320796e+01, 6.75572913e+01,\n",
              "       2.07548511e+01, 3.94301574e+01, 4.27952131e+01, 1.20173117e+02,\n",
              "       1.05653467e+02, 5.00665485e+01, 6.71569135e+01, 1.86011551e+02,\n",
              "       7.49418552e+01, 1.46337070e+02, 9.00498552e+01, 8.89403323e+01,\n",
              "       4.82217664e-01, 2.26285043e+01, 1.39748147e+02, 1.84018868e+02,\n",
              "       6.92129773e+01, 2.04750198e+02, 1.83031516e+00, 9.52097310e+01,\n",
              "       1.54005090e+01, 1.96239334e+02, 4.63276373e+01, 9.98452915e+01,\n",
              "       2.20919684e+01, 1.94288480e+02, 1.52931335e+00, 2.36774310e+01,\n",
              "       1.08319277e+02, 1.34728473e+02, 6.01015136e+01, 7.96276721e+01,\n",
              "       5.81290213e+01, 2.57085617e+01, 1.19441201e+02, 3.22947538e+01,\n",
              "       7.46413686e+01, 1.58068549e+02, 2.09355253e+02, 1.28749327e+02,\n",
              "       4.50836014e+01, 6.97440540e+01, 1.28327996e+01, 1.91525379e+02,\n",
              "       2.24127542e+01, 1.68801945e+02, 9.60223341e+01, 1.18122072e+02,\n",
              "       4.81891745e+01, 9.83130127e+01, 7.75860024e+01, 1.47131911e+02,\n",
              "       2.72394996e+01, 1.36391950e+02, 1.03022977e+02, 2.39039726e+02,\n",
              "       1.08154047e+02, 1.30417612e+02, 8.53339895e+01, 2.17381284e+02,\n",
              "       8.84287758e+01, 1.21847673e+02, 1.54591448e+02, 1.67504540e+02,\n",
              "       2.15915411e+02, 2.54828351e+02, 5.66420732e-01, 1.38829873e+02,\n",
              "       1.44673684e+02, 1.32334105e+02, 1.73258397e+02, 2.38473898e+02,\n",
              "       2.46687142e+02, 1.67418623e+02, 4.58914616e+01, 2.55017397e+02,\n",
              "       2.45454613e+02, 5.14072941e+01, 3.68260895e+01, 5.20845921e+01,\n",
              "       4.37156312e+01, 1.86385161e+01, 1.79221636e+02, 2.70662465e+02,\n",
              "       7.59426200e+01, 4.83587256e+01, 2.41918855e+02, 2.43600833e+02,\n",
              "       3.48469630e+01, 2.28399668e+02, 5.20150325e+00, 2.39341284e+02,\n",
              "       1.55900481e+02, 4.00039407e+01, 4.86655408e+01, 2.70526619e+02,\n",
              "       2.76066919e+02, 2.67354954e+02, 2.63707948e+02, 1.99688993e+02,\n",
              "       2.04062871e+02, 4.29052292e+01, 1.84994397e+02, 1.89100783e+02,\n",
              "       6.68789167e-01, 1.74734134e+02, 2.62440275e+02, 2.34379101e+02,\n",
              "       2.92034663e+02, 1.66804097e+01, 2.30311288e+01, 9.59870712e+01,\n",
              "       2.05103882e+02, 1.53099678e+02, 2.72609460e+02, 2.78629512e+02,\n",
              "       1.70784693e+02, 1.70414223e+02, 7.04818247e+01, 9.53610914e+01,\n",
              "       3.80068547e+01, 1.62353427e+01, 6.14484734e+01, 2.48681559e+02,\n",
              "       1.80920372e+02, 2.79195436e+02, 6.05644186e+01, 7.64642944e+01,\n",
              "       1.02741018e+02, 1.20540267e+02, 6.21804317e+01, 9.73858573e+01,\n",
              "       1.34317117e+02, 6.89758987e+01, 9.37778851e+01, 5.08729194e+01,\n",
              "       2.45456629e+02, 9.79486101e+01, 1.03689291e+02, 4.67530613e+01,\n",
              "       2.72749656e+02, 1.39375777e+02, 4.05004359e+01, 1.33021628e+02,\n",
              "       1.60454593e+02, 3.26102839e+02, 2.50527682e+02, 1.44436909e+02,\n",
              "       1.28709674e+02, 2.55271657e+01, 1.34510261e+02, 1.35767856e+02,\n",
              "       2.08725590e+02, 6.40844141e+01, 3.24046845e+02, 3.38886418e+02,\n",
              "       2.91671856e+02, 2.47221304e+02, 2.19086957e+02, 1.34012538e+02,\n",
              "       2.33881720e+02, 8.44990895e+01, 1.37188132e+02, 3.39092038e+02,\n",
              "       1.01548806e+02, 3.55001769e+02, 3.67841696e+01, 3.75095855e+01,\n",
              "       1.34238896e+02, 1.36052887e+02, 5.64885131e+01, 2.09565506e+02,\n",
              "       3.11943558e+02, 1.22947947e+02, 3.00126868e+02, 2.15046921e+02,\n",
              "       3.57779016e+01, 3.03799325e+01, 2.80300984e+02, 3.41620325e+02,\n",
              "       1.88071402e+02, 9.51317230e+01, 3.27348531e+00, 1.36650535e+02,\n",
              "       2.61783918e+02, 2.36275454e+02, 1.53019080e+02, 2.65771519e+02,\n",
              "       5.88935015e+01, 2.08564688e+02, 2.97191017e+02, 5.38672833e+01,\n",
              "       2.59817858e+02, 3.89890750e+01, 2.25878132e+02, 1.49092442e+02,\n",
              "       2.94839305e+02, 3.21464146e+02, 7.47599923e+01, 3.51472158e+02,\n",
              "       7.96080079e+01, 2.98412288e+02, 3.52664942e+02, 4.26047676e+01,\n",
              "       2.57712154e+02, 1.43725473e+02, 4.09693020e+01, 2.17905975e+02,\n",
              "       7.87744641e+01, 3.36433948e+02, 2.14599024e+02, 3.20515969e+01,\n",
              "       1.44840797e+02, 2.86578016e+02, 2.68485215e+02, 1.12401133e+02,\n",
              "       5.00548297e-01, 9.20942090e+00, 3.76513940e+02, 2.08770529e+02,\n",
              "       2.97952938e+02, 4.05674955e+02, 2.69644421e+02, 9.95248317e+01,\n",
              "       1.97668824e+02, 2.93276225e+01, 2.53112730e+02, 3.10303575e+02,\n",
              "       3.50544048e+02, 2.06028675e+02, 1.90196983e+02, 6.77490057e+01,\n",
              "       4.09505340e+02, 3.70294862e+02, 1.01131776e+02, 2.16292693e+02,\n",
              "       1.19322172e+02, 5.73536318e+01, 1.36139393e+02, 2.50224896e+02,\n",
              "       4.16838730e+01, 1.52598163e+02, 1.56012704e+01, 1.92891949e+02,\n",
              "       1.25971537e+02, 3.33194507e+02, 3.60584093e+02, 4.34978748e+02,\n",
              "       4.31347603e+02, 3.88193992e+02, 1.31210437e+02, 1.77971473e+02,\n",
              "       5.80903582e+01, 3.36431706e+02, 3.04042704e+02, 9.83996636e+00,\n",
              "       4.42971971e+02, 4.02007501e+02, 5.90731020e+01, 3.79564290e+02,\n",
              "       3.90569558e+01, 3.22425798e+02, 3.71932754e+02, 2.34670710e+02,\n",
              "       4.24447607e+02, 1.46633861e+02, 3.83206520e+02, 2.97034964e+02,\n",
              "       1.99940851e+02, 2.41733259e+02, 9.41388314e+01, 2.37896821e+01,\n",
              "       1.28099918e+02, 4.30841332e+02, 2.33939238e+02, 4.59691017e+02,\n",
              "       2.35774747e+02, 1.06035842e+02, 1.50524682e+02, 4.64929301e+02,\n",
              "       2.10288988e+02, 4.68017097e+02, 1.54476255e+02, 3.90638908e+02,\n",
              "       2.09501582e+02, 3.75944057e+02, 4.01302577e+02, 3.28430573e+01,\n",
              "       3.71998407e+02, 3.80544229e+02, 2.92537950e+02, 6.38772972e+01,\n",
              "       2.76702845e+02, 1.63029592e+02, 3.64654802e+02, 1.51124910e+02,\n",
              "       1.18436349e+02, 4.86341844e+02, 2.27343821e+02, 3.91672115e+02,\n",
              "       3.50748416e+02, 4.10505212e+02, 3.03348075e+02, 8.56273208e+01,\n",
              "       2.82436606e+02, 2.86359117e+02, 2.17706113e+02, 3.99429133e+02,\n",
              "       4.54546335e+02, 2.56938158e+02, 3.37896941e+02, 1.76888302e+02,\n",
              "       3.47935732e+02, 4.82120877e+02, 1.95223561e+02, 4.64924565e+02,\n",
              "       7.29651148e+01, 1.26255094e+01, 4.77333880e+02, 1.69315384e+02,\n",
              "       4.69887405e+02, 4.54375578e+02, 2.23310240e+02, 3.01208992e+02,\n",
              "       8.81032967e+01, 1.75189269e+02, 2.89819786e+01, 4.90752810e+02,\n",
              "       2.23929495e+02, 2.97545444e+02, 5.10909001e+02, 2.99590096e+02,\n",
              "       2.65337345e+02, 5.04780725e+02, 5.12861353e+02, 1.94717239e+02,\n",
              "       2.98060050e+01, 4.56170930e+02, 4.37726598e+02, 8.89214357e+01,\n",
              "       2.17457209e+02, 1.24746873e+02, 8.39374795e+01, 5.35601122e+02,\n",
              "       4.71325956e+02, 2.60842423e+02, 1.62806243e+02, 2.52103571e+02,\n",
              "       2.45167733e+01, 1.64519049e+02, 4.38615980e+02, 4.21116775e+02,\n",
              "       1.98565063e+02, 6.91998312e+01, 3.74163309e+02, 1.73526517e+02,\n",
              "       3.63563154e+01, 4.15008448e+02, 3.07276987e+02, 4.69503471e+02,\n",
              "       4.81996470e+01, 1.39797316e+02, 3.25882880e+02, 5.11687359e+02,\n",
              "       3.12050530e+01, 5.09367351e+02, 8.41356440e+01, 5.43424650e+02,\n",
              "       9.23626349e+01, 5.32493410e+02, 3.96096161e+02, 4.73902674e+02,\n",
              "       4.76681203e+02, 5.57591247e+02, 1.80006137e+02, 1.75721783e+02,\n",
              "       1.75231509e+02, 3.87784495e+02, 5.28043682e+02, 4.12227911e+02,\n",
              "       5.61138583e+02, 2.25867343e+02, 1.17016736e+02, 3.17534197e+02,\n",
              "       2.68321002e+02, 2.89739948e+02, 3.44411754e+01, 1.34322013e+02,\n",
              "       2.03656520e+02, 5.57435679e+02, 3.08127071e+02, 2.94720568e+02,\n",
              "       5.14925037e+02, 5.97538072e+01, 2.20372853e+02, 7.24527703e+01,\n",
              "       2.89962496e+02, 4.71621368e+02, 2.97454130e+02, 5.43513455e+02,\n",
              "       3.84689702e+02, 4.65505333e+02, 1.67438864e+01, 2.37787607e+02,\n",
              "       3.86534773e+01, 5.63331551e+02, 2.38394175e+02, 5.83970794e+02,\n",
              "       4.46578509e+02, 3.74330087e+01, 5.75628489e+02, 3.02297528e+02,\n",
              "       1.58478314e+02, 4.19669327e+02, 6.02121552e+02, 6.09846860e+01,\n",
              "       2.76495089e+02, 3.51410256e+02, 5.77601187e+02, 5.71447278e+02,\n",
              "       2.81044410e+02, 2.09581092e+02, 3.61210204e+02, 4.74636022e+02,\n",
              "       4.76722793e+02, 6.08756185e+02, 3.23939034e+02, 5.96247426e+02,\n",
              "       1.12242212e+02, 2.16048182e+02, 3.34772293e+02, 1.54776854e+02,\n",
              "       2.70633623e+02, 5.98543417e+02, 4.98612562e+02, 1.67697778e+02,\n",
              "       2.17917779e+02, 5.96934120e+02, 3.19237062e+02, 5.78705455e+02,\n",
              "       1.32707686e+02, 4.64942476e+01, 2.94770372e+02, 4.77663645e+02,\n",
              "       1.00594967e+02, 5.44683026e+02, 4.23639592e+02, 3.87440775e+02,\n",
              "       2.33668622e+02, 3.83138626e+02, 2.82637838e+02, 1.42875959e+02,\n",
              "       4.39797635e+02, 5.21938024e+02, 4.75500191e+02, 4.41108392e+02,\n",
              "       3.82385075e+02, 4.74695560e+02, 5.93071728e+02, 5.04760573e+02,\n",
              "       7.70970189e+01, 5.52461339e+02, 5.34118582e+02, 8.65157417e+01,\n",
              "       1.40294838e+02, 1.68142671e+02, 5.61669497e+02, 5.22817957e+02,\n",
              "       9.96118024e+01, 5.84292918e+02, 4.92835390e+02, 2.36650912e+02,\n",
              "       4.76181929e+02, 6.60430568e+02, 6.35602860e+02, 2.90115680e+02,\n",
              "       4.52763969e+02, 6.00820733e+02, 1.98125501e+01, 5.27783905e+02,\n",
              "       6.05931286e+02, 2.13637059e+02, 3.06073310e+02, 3.37276722e+02,\n",
              "       7.49193751e+01, 3.92115984e+02, 2.19951094e+02, 1.72489869e+02,\n",
              "       3.15425518e+02, 6.56291340e+02, 2.77985664e+02, 4.03401398e+02,\n",
              "       6.29431603e+02, 1.52032278e+02, 7.78741644e+01, 5.36599631e+02,\n",
              "       4.40012496e+02, 5.29060489e+02, 2.76135515e+02, 6.16072136e+02,\n",
              "       6.15015301e+02, 3.46626630e+02, 5.51522396e+02, 4.68846282e+02,\n",
              "       4.84271356e+02, 5.36718017e+02, 5.78964681e+02, 2.07496954e+02,\n",
              "       2.08438494e+02, 5.87598743e+02, 6.14070053e+02, 5.98666991e+02,\n",
              "       1.38527647e+02, 1.94795921e+02, 4.85290474e+02, 3.83281803e+01,\n",
              "       1.76717162e+02, 2.86822726e+02, 4.98650281e+02, 2.80895296e+02,\n",
              "       2.95872258e+02, 4.29897093e+01, 6.64933052e+02, 4.64648128e+02,\n",
              "       3.13096822e+02, 6.27584727e+02, 5.93156100e+02, 3.28897152e+02,\n",
              "       4.87400643e+02, 5.40533335e+02, 2.20585089e+02, 5.06697000e+02,\n",
              "       1.85189573e+02, 5.95400235e+02, 2.33032755e+02, 9.96331518e+01,\n",
              "       2.64650619e+02, 5.59561534e+02, 5.68915060e+02, 6.02979117e+02,\n",
              "       6.35455251e+02, 9.85493265e+00, 2.48241352e+01, 3.61933920e+02,\n",
              "       6.53766688e+02, 2.69875440e+02, 1.83190163e+02, 4.48629573e+02,\n",
              "       4.68321564e+02, 3.32278233e+02, 7.24344790e+02, 7.24439562e+02,\n",
              "       2.90874778e+02, 1.95362473e+02, 1.29012489e+02, 5.19221010e+02,\n",
              "       7.37814850e+02, 1.63760255e+02, 3.66487254e+02, 1.49257044e+02,\n",
              "       1.28014627e+02, 6.60873762e+02, 3.23078966e+02, 5.25889674e+01,\n",
              "       3.54450036e+02, 2.02390287e+02, 3.98504778e+02, 1.37808216e+02,\n",
              "       5.20353249e+02, 7.82254391e+01, 6.02408615e+02, 3.69816847e+01,\n",
              "       3.66132566e+02, 5.29285250e+01, 5.37280027e+02, 5.30004490e+02,\n",
              "       3.83078819e+02, 7.72859682e+01, 7.65198300e+02, 3.58174124e+02,\n",
              "       3.25932296e+02, 1.04485226e+02, 5.23109761e+02, 7.52792969e+02,\n",
              "       7.70101220e+02, 4.70802586e+02, 7.47107403e+02, 2.47158704e+02,\n",
              "       5.56572608e+02, 7.48656593e+02, 5.23712343e+02, 5.19613651e+01,\n",
              "       5.10066591e+02, 3.42412343e+02, 1.96964160e+02, 2.98586585e+02,\n",
              "       5.79275626e+02, 7.73171276e+02, 3.97577308e+02, 5.88540539e+02,\n",
              "       3.45421219e+02, 3.94130319e+02, 4.08541711e+02, 1.94643646e+02,\n",
              "       6.37792491e+02, 4.19080906e+02, 3.72002567e+02, 4.31222999e+02,\n",
              "       6.67608099e+02, 6.65988144e+01, 2.96002990e+02, 2.28725762e+01,\n",
              "       3.22403512e+02, 6.16133941e+02, 1.24714275e+02, 5.01364960e+02,\n",
              "       7.45454697e+01, 2.78641153e+02, 1.44644612e+02, 1.48970113e+02,\n",
              "       2.55117968e+02, 6.07153534e+02, 1.30934250e+02, 1.61355949e+02,\n",
              "       5.49280055e+02, 7.40621179e+02, 6.26607411e+02, 3.64706977e+02,\n",
              "       6.36305614e+02, 3.90982295e+02, 2.94611809e+02, 2.27555026e+02,\n",
              "       3.03887179e+02, 6.00616556e+02, 4.68929829e+02, 8.79718001e+01,\n",
              "       6.00854514e+02, 1.11643935e+01, 3.47739380e+02, 1.14229104e+02,\n",
              "       2.33702043e+02, 2.75860324e+02, 5.56376705e+02, 5.21736404e+02,\n",
              "       3.65710386e+02, 7.18955280e+02, 7.48150126e+02, 4.66543711e+02,\n",
              "       7.71352870e+02, 7.50235412e+02, 4.94087790e+02, 3.32955614e+02,\n",
              "       3.20478611e+02, 2.59458976e+02, 4.32164141e+02, 8.12250569e+02,\n",
              "       8.23780308e+02, 2.60553229e+02, 4.06865563e+02, 6.81811691e+02,\n",
              "       4.85190697e+02, 5.36197607e+02, 4.92598817e+02, 9.67225011e+01,\n",
              "       6.06280368e+02, 5.16039884e+02, 1.66788096e+02, 5.29400925e+02,\n",
              "       1.63847095e+02, 6.36323743e+02, 1.06766498e+02, 2.62728236e+02,\n",
              "       6.69482051e+02, 1.90108470e+02, 6.98499258e+02, 1.99604608e+02,\n",
              "       5.48913543e+02, 6.97613747e+02, 5.14675715e+02, 4.33268319e+02,\n",
              "       8.14440350e+01, 2.09144507e+02, 2.17232283e+02, 1.98189242e+02,\n",
              "       4.40538286e+02, 1.41269043e+02, 3.44802170e+02, 5.64725260e+02,\n",
              "       8.17664275e+02, 8.48019988e+02, 7.99558356e+02, 7.21557389e+01,\n",
              "       4.45718608e+02, 8.98200649e+00, 2.28407133e+02, 8.05079896e+02,\n",
              "       4.52768806e+02, 7.10341301e+02, 2.80088891e+02, 8.12051185e+02,\n",
              "       3.68526747e+02, 4.73641483e+02, 3.87043349e+02, 2.13451519e+02,\n",
              "       7.10877268e+02, 3.16640957e+02, 4.31394485e+02, 4.07631301e+02,\n",
              "       3.39496550e+02, 7.15417433e+02, 5.03834101e+02, 3.71034837e+02,\n",
              "       3.55428831e+02, 5.26615550e+02, 8.57439352e+02, 1.20915597e+02,\n",
              "       8.65967510e+02, 5.82814169e+02, 2.94943877e+02, 1.78889839e+02,\n",
              "       9.01466947e+02, 3.69107964e+02, 6.48672476e+02, 1.92754380e+01,\n",
              "       6.18810846e+02, 5.35643662e+02, 5.40945135e+02, 7.50029221e+02,\n",
              "       2.42493437e+02, 1.82870821e+02, 8.02907709e+02, 8.61962983e+01,\n",
              "       4.00228468e+02, 4.10421912e+01, 9.13922466e+02, 8.69242036e+02,\n",
              "       7.15056306e+02, 7.62430292e+02, 3.49897700e+02, 5.47960765e+02,\n",
              "       9.49920732e+01, 5.82434210e+02, 4.25268675e+02, 7.64516150e+02,\n",
              "       3.77522096e+02, 6.49692235e+02, 1.15305630e+02, 7.32567590e+02,\n",
              "       9.49001820e+01, 8.93526342e+02, 7.98993326e+02, 6.33369349e+02,\n",
              "       5.27987844e+02, 6.41961441e+02, 5.75323833e+02, 1.26956401e+02,\n",
              "       6.92057475e+02, 3.56155668e+02, 7.14636499e+02, 3.42165371e+02,\n",
              "       5.83735456e+01, 4.01779090e+02, 1.38808564e+02, 9.05940120e+02,\n",
              "       3.20605170e+02, 3.69389108e+02, 7.53548891e+01, 7.58838607e+02,\n",
              "       1.42500067e+02, 7.05035526e+02, 2.74768769e+01, 6.27668738e+01,\n",
              "       8.96549561e+02, 6.87090886e+02, 5.98857672e+02, 6.37385992e+02,\n",
              "       9.44141769e+02, 9.32873631e+02, 1.73982301e+02, 2.51382096e+02,\n",
              "       4.09690961e+02, 2.83732240e+02, 3.62173521e+02, 9.20835231e+02,\n",
              "       1.97288229e+02, 4.63109923e+02, 4.81031052e+02, 8.88683000e+02,\n",
              "       9.30493269e+02, 9.74095522e+01, 8.62734657e+02, 7.92971532e+02,\n",
              "       6.47679945e+02, 1.46164350e+02, 5.04973239e+02, 1.23947829e+02,\n",
              "       5.45336216e+02, 5.96336141e+02, 7.23058581e+02, 7.80356860e+02,\n",
              "       4.74268886e+02, 2.34955685e+02, 9.73628792e+02, 5.22575079e+02,\n",
              "       4.20602927e+02, 5.20076019e+02, 5.28474238e+02, 7.75319127e+02])"
            ]
          },
          "metadata": {
            "tags": []
          },
          "execution_count": 19
        }
      ]
    },
    {
      "cell_type": "markdown",
      "metadata": {
        "id": "rBTTs7oMMfIs",
        "colab_type": "text"
      },
      "source": [
        "We now have sales prices for 1000 items currently for sale at BuyStuff. Now create an RDD called `price_items` using the newly created data with 10 slices. After you create it, use one of the basic actions to see what's in the RDD."
      ]
    },
    {
      "cell_type": "code",
      "metadata": {
        "id": "kDPo2Si0MfIs",
        "colab_type": "code",
        "outputId": "a18f254d-4949-4b24-e5d0-7b0469324898",
        "colab": {
          "base_uri": "https://localhost:8080/",
          "height": 87
        }
      },
      "source": [
        "price_items = sc.parallelize(sales_figures, numSlices=10)\n",
        "price_items.take(4)"
      ],
      "execution_count": 0,
      "outputs": [
        {
          "output_type": "execute_result",
          "data": {
            "text/plain": [
              "[0.25032728918258906,\n",
              " 0.05923139762306917,\n",
              " 2.096666075774489,\n",
              " 2.3659654253361255]"
            ]
          },
          "metadata": {
            "tags": []
          },
          "execution_count": 20
        }
      ]
    },
    {
      "cell_type": "markdown",
      "metadata": {
        "id": "wXj6DZwdMfIv",
        "colab_type": "text"
      },
      "source": [
        "Now let's perform some operations on this simple dataset. To begin with, create a function that will take into account how much money BuyStuff will receive after sales tax has been applied (assume a sales tax of 8%). To make this happen, create a function called `sales_tax()` that returns the amount of money our company will receive after the sales tax has been applied. The function will have this parameter:\n",
        "\n",
        "* `item`: (float) number to be multiplied by the sales tax.\n",
        "\n",
        "\n",
        "Apply that function to the rdd by using the `.map()` method and assign it to a variable `renenue_minus_tax`"
      ]
    },
    {
      "cell_type": "code",
      "metadata": {
        "id": "t0T1WooPMfIw",
        "colab_type": "code",
        "colab": {}
      },
      "source": [
        "def sales_tax(num):\n",
        "    return num*0.92\n",
        "\n",
        "revenue_minus_tax = price_items.map(sales_tax)"
      ],
      "execution_count": 0,
      "outputs": []
    },
    {
      "cell_type": "markdown",
      "metadata": {
        "id": "LCpoNA0LMfIz",
        "colab_type": "text"
      },
      "source": [
        "Remember, Spark has __lazy evaluation__, which means that the `sales_tax()` function is a transformer that is not executed until you call an action. Use one of the collection methods to execute the transformer now a part of the RDD and observe the contents of the `revenue_minus_tax` rdd."
      ]
    },
    {
      "cell_type": "code",
      "metadata": {
        "scrolled": true,
        "id": "NPNSSNJwMfIz",
        "colab_type": "code",
        "outputId": "fed669b5-eefb-4881-d0b1-7615312df079",
        "colab": {
          "base_uri": "https://localhost:8080/",
          "height": 194
        }
      },
      "source": [
        "# perform action to retrieve rdd values\n",
        "revenue_minus_tax.take(10)"
      ],
      "execution_count": 0,
      "outputs": [
        {
          "output_type": "execute_result",
          "data": {
            "text/plain": [
              "[0.23030110604798196,\n",
              " 0.05449288581322364,\n",
              " 1.92893278971253,\n",
              " 2.1766881913092355,\n",
              " 2.2863388530309674,\n",
              " 2.224713996160945,\n",
              " 4.79714024519517,\n",
              " 1.918280005654739,\n",
              " 2.3206671765003506,\n",
              " 3.946654361779104]"
            ]
          },
          "metadata": {
            "tags": []
          },
          "execution_count": 23
        }
      ]
    },
    {
      "cell_type": "markdown",
      "metadata": {
        "id": "zi7C7jk5MfI2",
        "colab_type": "text"
      },
      "source": [
        "### Lambda Functions\n",
        "\n",
        "Note that you can also use lambda functions if you want to quickly perform simple operations on data without creating a function. Let's assume that BuyStuff has also decided to offer a 10% discount on all of their items on the pre-tax amounts of each item. Use a lambda function within a `.map()` method to apply the additional 10% loss in revenue for BuyStuff and assign the transformed RDD to a new RDD called `discounted`."
      ]
    },
    {
      "cell_type": "code",
      "metadata": {
        "id": "ifk7dttPMfI3",
        "colab_type": "code",
        "colab": {}
      },
      "source": [
        "discounted = revenue_minus_tax.map(lambda x: x*0.9)"
      ],
      "execution_count": 0,
      "outputs": []
    },
    {
      "cell_type": "code",
      "metadata": {
        "scrolled": true,
        "id": "VdfoVYDSMfI6",
        "colab_type": "code",
        "outputId": "a3be968c-11ff-4ada-c3e5-6080bdab120c",
        "colab": {
          "base_uri": "https://localhost:8080/",
          "height": 194
        }
      },
      "source": [
        "discounted.take(10)"
      ],
      "execution_count": 0,
      "outputs": [
        {
          "output_type": "execute_result",
          "data": {
            "text/plain": [
              "[0.20727099544318375,\n",
              " 0.04904359723190128,\n",
              " 1.736039510741277,\n",
              " 1.959019372178312,\n",
              " 2.057704967727871,\n",
              " 2.0022425965448503,\n",
              " 4.317426220675653,\n",
              " 1.7264520050892653,\n",
              " 2.0886004588503155,\n",
              " 3.5519889256011936]"
            ]
          },
          "metadata": {
            "tags": []
          },
          "execution_count": 26
        }
      ]
    },
    {
      "cell_type": "markdown",
      "metadata": {
        "id": "tppvUViLMfI-",
        "colab_type": "text"
      },
      "source": [
        "## Chaining Methods\n",
        "\n",
        "You are also able to chain methods together with Spark. In one line, remove the tax and discount from the revenue of BuyStuff and use a collection method to see the 15 costliest items."
      ]
    },
    {
      "cell_type": "code",
      "metadata": {
        "scrolled": true,
        "id": "9TS63qSoMfI-",
        "colab_type": "code",
        "outputId": "0b8afbe8-cfc8-4f7d-e0e0-d15a7c564b0e",
        "colab": {
          "base_uri": "https://localhost:8080/",
          "height": 283
        }
      },
      "source": [
        "price_items.map(sales_tax).map(lambda x: x*.09).top(15)"
      ],
      "execution_count": 0,
      "outputs": [
        {
          "output_type": "execute_result",
          "data": {
            "text/plain": [
              "[80.61646397520958,\n",
              " 78.17493846749854,\n",
              " 77.24193665965555,\n",
              " 77.04484265567484,\n",
              " 76.2451570890962,\n",
              " 75.67278019176915,\n",
              " 75.01184190042832,\n",
              " 74.64146320653187,\n",
              " 74.23430368131685,\n",
              " 73.9839811356749,\n",
              " 73.58295243330998,\n",
              " 71.97324061887713,\n",
              " 71.70210981568422,\n",
              " 71.43442959382307,\n",
              " 70.99597836302436]"
            ]
          },
          "metadata": {
            "tags": []
          },
          "execution_count": 28
        }
      ]
    },
    {
      "cell_type": "markdown",
      "metadata": {
        "id": "QKHc1lzQMfJC",
        "colab_type": "text"
      },
      "source": [
        "## RDD Lineage\n",
        "\n",
        "\n",
        "We are able to see the full lineage of all the operations that have been performed on an RDD by using the `RDD.toDebugString()` method. As your transformations become more complex, you are encouraged to call this method to get a better understanding of the dependencies between RDDs. Try calling it on the `discounted` RDD to see what RDDs it is dependent on."
      ]
    },
    {
      "cell_type": "code",
      "metadata": {
        "id": "-GiJ7NMBMfJC",
        "colab_type": "code",
        "outputId": "c0da70ec-e3be-4247-8de1-53fd1dae11b8",
        "colab": {
          "base_uri": "https://localhost:8080/",
          "height": 34
        }
      },
      "source": [
        "discounted.toDebugString()"
      ],
      "execution_count": 0,
      "outputs": [
        {
          "output_type": "execute_result",
          "data": {
            "text/plain": [
              "b'(10) PythonRDD[11] at RDD at PythonRDD.scala:53 []\\n |   ParallelCollectionRDD[5] at parallelize at PythonRDD.scala:195 []'"
            ]
          },
          "metadata": {
            "tags": []
          },
          "execution_count": 29
        }
      ]
    },
    {
      "cell_type": "markdown",
      "metadata": {
        "id": "o9TvGdhmMfJF",
        "colab_type": "text"
      },
      "source": [
        "### Map vs. Flatmap\n",
        "\n",
        "Depending on how you want your data to be outputted, you might want to use `.flatMap()` rather than a simple `.map()`. Let's take a look at how it performs operations versus the standard map. Let's say we wanted to maintain the original amount BuyStuff receives for each item as well as the new amount after the tax and discount are applied. Create a map function that will return a tuple with (original price, post-discount price)."
      ]
    },
    {
      "cell_type": "code",
      "metadata": {
        "id": "olOV4yUHMfJF",
        "colab_type": "code",
        "outputId": "b4535eea-c939-4c53-c4d0-f820c58ad287",
        "colab": {
          "base_uri": "https://localhost:8080/",
          "height": 72
        }
      },
      "source": [
        "mapped = price_items.map(lambda x: (x, x*0.92 *0.9))\n",
        "print(mapped.count())\n",
        "print(mapped.take(10))"
      ],
      "execution_count": 0,
      "outputs": [
        {
          "output_type": "stream",
          "text": [
            "1000\n",
            "[(0.25032728918258906, 0.20727099544318375), (0.05923139762306917, 0.04904359723190128), (2.096666075774489, 1.736039510741277), (2.3659654253361255, 1.959019372178312), (2.485150927207573, 2.057704967727871), (2.4181673871314615, 2.0022425965448503), (5.214282875212141, 4.317426220675653), (2.0850869626681945, 1.7264520050892653), (2.52246432228299, 2.0886004588503155), (4.289841697585983, 3.5519889256011936)]\n"
          ],
          "name": "stdout"
        }
      ]
    },
    {
      "cell_type": "markdown",
      "metadata": {
        "id": "_V-aw8PaMfJJ",
        "colab_type": "text"
      },
      "source": [
        "Note that we have 1000 tuples created to our specification. Let's take a look at how `.flatMap()` differs in its implementation. Use the `.flatMap()` method with the same function you created above."
      ]
    },
    {
      "cell_type": "code",
      "metadata": {
        "id": "52VuPNr0MfJK",
        "colab_type": "code",
        "outputId": "65a4f8aa-5645-40bb-d4a3-46a85d179060",
        "colab": {
          "base_uri": "https://localhost:8080/",
          "height": 72
        }
      },
      "source": [
        "flat_mapped = price_items.flatMap(lambda x: (x, x*0.92 *0.9))\n",
        "print(flat_mapped.count())\n",
        "print(flat_mapped.take(10))"
      ],
      "execution_count": 0,
      "outputs": [
        {
          "output_type": "stream",
          "text": [
            "2000\n",
            "[0.25032728918258906, 0.20727099544318375, 0.05923139762306917, 0.04904359723190128, 2.096666075774489, 1.736039510741277, 2.3659654253361255, 1.959019372178312, 2.485150927207573, 2.057704967727871]\n"
          ],
          "name": "stdout"
        }
      ]
    },
    {
      "cell_type": "markdown",
      "metadata": {
        "id": "waSDeO-5MfJN",
        "colab_type": "text"
      },
      "source": [
        "Rather than being represented by tuples, all of the  values are now on the same level. When we are trying to combine different items together, it is sometimes necessary to use `.flatMap()` rather than `.map()` in order to properly reduce to our specifications. This is not one of those instances, but in the upcoming lab, you just might have to use it."
      ]
    },
    {
      "cell_type": "markdown",
      "metadata": {
        "id": "M2_XNNdsMfJN",
        "colab_type": "text"
      },
      "source": [
        "## Filter\n",
        "After meeting with some external consultants, BuyStuff has determined that its business will be more profitable if it focuses on higher ticket items. Now, use the `.filter()` method to select items that bring in more than $300 after tax and discount have been removed. A filter method is a specialized form of a map function that only returns the items that match a certain criterion. In the cell below:\n",
        "* use a lambda function within a `.filter()` method to meet the consultant's suggestion's specifications. set `RDD = selected_items`\n",
        "* calculate the total number of items remaining in BuyStuff's inventory"
      ]
    },
    {
      "cell_type": "code",
      "metadata": {
        "id": "K2ygq7eaMfJO",
        "colab_type": "code",
        "outputId": "f6f82228-923d-4b63-b59e-bb36bf51286e",
        "colab": {
          "base_uri": "https://localhost:8080/",
          "height": 34
        }
      },
      "source": [
        "# use the filter function\n",
        "selected_items = discounted.filter(lambda x: x>300)\n",
        "\n",
        "# calculate total remaining in inventory \n",
        "selected_items.count()"
      ],
      "execution_count": 0,
      "outputs": [
        {
          "output_type": "execute_result",
          "data": {
            "text/plain": [
              "296"
            ]
          },
          "metadata": {
            "tags": []
          },
          "execution_count": 34
        }
      ]
    },
    {
      "cell_type": "markdown",
      "metadata": {
        "id": "xQoYyczoMfJQ",
        "colab_type": "text"
      },
      "source": [
        "## Reduce\n",
        "\n",
        "Reduce functions are where you are in some way combing all of the variables that you have mapped out. Here is an example of how a reduce function works when the task is to sum all values:\n",
        "\n",
        "<img src = \"./images/reduce_function.png\" width = \"600\">  \n",
        "\n",
        "\n",
        "As you can see, the operation is performed within each partition first, after which, the results of the computations in each partition are combined to come up with one final answer.  \n",
        "\n",
        "Now it's time to figure out how much money BuyStuff would make from selling one of all of its items after they've reduced their inventory. Use the `.reduce()` method with a lambda function to add up all of the values in the RDD. Your lambda function should have two variables. "
      ]
    },
    {
      "cell_type": "code",
      "metadata": {
        "id": "javys6OgMfJR",
        "colab_type": "code",
        "outputId": "5984edc3-7056-45aa-d8a9-ee285bbe96a2",
        "colab": {
          "base_uri": "https://localhost:8080/",
          "height": 34
        }
      },
      "source": [
        "selected_items.reduce(lambda x,y: x + y)"
      ],
      "execution_count": 0,
      "outputs": [
        {
          "output_type": "execute_result",
          "data": {
            "text/plain": [
              "136591.68211372473"
            ]
          },
          "metadata": {
            "tags": []
          },
          "execution_count": 35
        }
      ]
    },
    {
      "cell_type": "markdown",
      "metadata": {
        "id": "qj7XFg0HMfJV",
        "colab_type": "text"
      },
      "source": [
        "The time has come for BuyStuff to open up shop and start selling its goods. It only has one of each item, but it's allowing 50 lucky users to buy as many items as they want while they remain in stock. Within seconds, BuyStuff is sold out. Below, you'll find the sales data in an RDD with tuples of (user, item bought)."
      ]
    },
    {
      "cell_type": "code",
      "metadata": {
        "id": "Xx2YnAc1MfJW",
        "colab_type": "code",
        "outputId": "807a74ed-a08d-40d4-ad9d-40aae855fd24",
        "colab": {
          "base_uri": "https://localhost:8080/",
          "height": 141
        }
      },
      "source": [
        "import random\n",
        "random.seed(42)\n",
        "# generating simulated users that have bought each item\n",
        "sales_data = selected_items.map(lambda x: (random.randint(1, 50), x))\n",
        "\n",
        "sales_data.take(7)"
      ],
      "execution_count": 0,
      "outputs": [
        {
          "output_type": "execute_result",
          "data": {
            "text/plain": [
              "[(21, 311.75354197271446),\n",
              " (22, 335.89886272402106),\n",
              " (28, 339.0704214058806),\n",
              " (33, 306.6041457708192),\n",
              " (38, 360.16240365465103),\n",
              " (3, 357.1558153623129),\n",
              " (21, 321.4246250379685)]"
            ]
          },
          "metadata": {
            "tags": []
          },
          "execution_count": 36
        }
      ]
    },
    {
      "cell_type": "markdown",
      "metadata": {
        "id": "MAmUHoQeMfJY",
        "colab_type": "text"
      },
      "source": [
        "It's time to determine some basic statistics about BuyStuff users.\n",
        "\n",
        "Let's start off by creating an RDD that determines how much each user spent in total.\n",
        "To do this we can use a method called `.reduceByKey()` to perform reducing operations while grouping by keys. After you have calculated the total, use the `.sortBy()` method on the RDD to rank the users from the highest spending to the least spending. "
      ]
    },
    {
      "cell_type": "code",
      "metadata": {
        "id": "cOT4MdzHMfJZ",
        "colab_type": "code",
        "colab": {}
      },
      "source": [
        "# calculate how much each user spent\n",
        "total_spent = sales_data.reduceByKey(lambda x,y: x + y)"
      ],
      "execution_count": 0,
      "outputs": []
    },
    {
      "cell_type": "code",
      "metadata": {
        "id": "RmobL3g9MfJb",
        "colab_type": "code",
        "outputId": "7a93de63-9349-4531-d118-c7d65a6cb52d",
        "colab": {
          "base_uri": "https://localhost:8080/",
          "height": 905
        }
      },
      "source": [
        "# sort the users from highest to lowest spenders\n",
        "total_spent.sortBy(lambda x: x[1],ascending = False).collect()"
      ],
      "execution_count": 0,
      "outputs": [
        {
          "output_type": "execute_result",
          "data": {
            "text/plain": [
              "[(15, 5127.538922473475),\n",
              " (26, 5045.193067065039),\n",
              " (49, 4901.367622442066),\n",
              " (21, 4811.88542054424),\n",
              " (37, 4349.21716726888),\n",
              " (30, 4200.831760890309),\n",
              " (28, 4163.633845453483),\n",
              " (44, 3874.8948469188144),\n",
              " (23, 3808.0234293544863),\n",
              " (22, 3747.452219661146),\n",
              " (45, 3677.302995183727),\n",
              " (40, 3664.437280448038),\n",
              " (2, 3535.8910548253093),\n",
              " (19, 3494.715885902109),\n",
              " (20, 3400.525819436177),\n",
              " (1, 3355.4715464633064),\n",
              " (10, 3310.768179464547),\n",
              " (32, 3275.454251599892),\n",
              " (4, 3241.564349960272),\n",
              " (25, 3188.078411470916),\n",
              " (12, 3181.308760026431),\n",
              " (47, 3075.889563996321),\n",
              " (39, 3044.608067062506),\n",
              " (50, 3042.4863963019548),\n",
              " (38, 3040.0132073068476),\n",
              " (41, 2784.66594000859),\n",
              " (27, 2752.020109283207),\n",
              " (11, 2661.5614547315486),\n",
              " (48, 2611.110957373884),\n",
              " (13, 2508.9413205982987),\n",
              " (6, 2373.4081660723577),\n",
              " (14, 2194.932475897216),\n",
              " (18, 2049.4974972420023),\n",
              " (42, 1971.0216637346375),\n",
              " (8, 1925.0790921721032),\n",
              " (43, 1766.5339607834956),\n",
              " (29, 1712.1983265291612),\n",
              " (31, 1656.3477729749811),\n",
              " (34, 1586.8743205695991),\n",
              " (35, 1513.6430052437963),\n",
              " (3, 1469.2083180143586),\n",
              " (46, 1316.0186111328844),\n",
              " (16, 1210.5896441695168),\n",
              " (24, 1185.0848709785992),\n",
              " (17, 1178.528683390613),\n",
              " (33, 1100.1303089485596),\n",
              " (36, 962.0324733333168),\n",
              " (7, 894.0167788740258),\n",
              " (5, 888.9095623296496),\n",
              " (9, 760.7727278180212)]"
            ]
          },
          "metadata": {
            "tags": []
          },
          "execution_count": 44
        }
      ]
    },
    {
      "cell_type": "markdown",
      "metadata": {
        "id": "uShOB79LMfJe",
        "colab_type": "text"
      },
      "source": [
        "Next, let's determine how many items were bought per user. This can be solved in one line using an RDD method. After you've counted the total number of items bought per person, sort the users from most number of items bought to least number of items. Time to start a customer loyalty program!"
      ]
    },
    {
      "cell_type": "code",
      "metadata": {
        "id": "-XIQnPiRMfJe",
        "colab_type": "code",
        "colab": {}
      },
      "source": [
        "# have to come back to this\n",
        "num_items = sales_data.countByKey(   )"
      ],
      "execution_count": 0,
      "outputs": []
    },
    {
      "cell_type": "code",
      "metadata": {
        "id": "uOLtvi04mpzz",
        "colab_type": "code",
        "outputId": "fe104fcb-4890-4890-adc1-0cc15b0ab5d3",
        "colab": {
          "base_uri": "https://localhost:8080/",
          "height": 923
        }
      },
      "source": [
        "num_items #. sortBy(lambda x: x[1],ascending = False).top(100)"
      ],
      "execution_count": 0,
      "outputs": [
        {
          "output_type": "execute_result",
          "data": {
            "text/plain": [
              "defaultdict(int,\n",
              "            {1: 6,\n",
              "             2: 6,\n",
              "             3: 4,\n",
              "             4: 8,\n",
              "             5: 2,\n",
              "             6: 6,\n",
              "             7: 2,\n",
              "             8: 4,\n",
              "             9: 2,\n",
              "             10: 8,\n",
              "             11: 6,\n",
              "             12: 8,\n",
              "             13: 6,\n",
              "             14: 6,\n",
              "             15: 10,\n",
              "             16: 4,\n",
              "             17: 2,\n",
              "             18: 4,\n",
              "             19: 8,\n",
              "             20: 8,\n",
              "             21: 10,\n",
              "             22: 8,\n",
              "             23: 9,\n",
              "             24: 3,\n",
              "             25: 6,\n",
              "             26: 12,\n",
              "             27: 4,\n",
              "             28: 10,\n",
              "             29: 4,\n",
              "             30: 8,\n",
              "             31: 4,\n",
              "             32: 8,\n",
              "             33: 4,\n",
              "             34: 4,\n",
              "             35: 4,\n",
              "             36: 2,\n",
              "             37: 10,\n",
              "             38: 6,\n",
              "             39: 6,\n",
              "             40: 8,\n",
              "             41: 4,\n",
              "             42: 4,\n",
              "             43: 4,\n",
              "             44: 6,\n",
              "             45: 6,\n",
              "             46: 4,\n",
              "             47: 6,\n",
              "             48: 6,\n",
              "             49: 10,\n",
              "             50: 6})"
            ]
          },
          "metadata": {
            "tags": []
          },
          "execution_count": 57
        }
      ]
    },
    {
      "cell_type": "markdown",
      "metadata": {
        "id": "pk_LfuFcMfJh",
        "colab_type": "text"
      },
      "source": [
        "### Additional Reading\n",
        "\n",
        "- [The original paper on RDDs](https://cs.stanford.edu/~matei/papers/2012/nsdi_spark.pdf)\n",
        "- [RDDs in Apache Spark](https://data-flair.training/blogs/create-rdds-in-apache-spark/)\n",
        "- [Programming with RDDs](https://runawayhorse001.github.io/LearningApacheSpark/rdd.html)\n",
        "- [RDD Transformations and Actions Summary](https://www.analyticsvidhya.com/blog/2016/10/using-pyspark-to-perform-transformations-and-actions-on-rdd/)"
      ]
    },
    {
      "cell_type": "markdown",
      "metadata": {
        "id": "WAMhTalWMfJh",
        "colab_type": "text"
      },
      "source": [
        "## Summary\n",
        "\n",
        "In this lab we went through a brief introduction to RDD creation from a Python collection, setting a number of logical partitions for an RDD and extracting lineage. We also used transformations and actions to perform calculations across RDDs on a distributed setup. In the next lab, you'll get the chance to apply these transformations on different books to calculate word counts and various statistics.\n"
      ]
    }
  ]
}