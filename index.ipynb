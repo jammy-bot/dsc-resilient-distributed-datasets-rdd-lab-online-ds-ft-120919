{
  "nbformat": 4,
  "nbformat_minor": 0,
  "metadata": {
    "kernelspec": {
      "display_name": "Python 3",
      "language": "python",
      "name": "python3"
    },
    "language_info": {
      "codemirror_mode": {
        "name": "ipython",
        "version": 3
      },
      "file_extension": ".py",
      "mimetype": "text/x-python",
      "name": "python",
      "nbconvert_exporter": "python",
      "pygments_lexer": "ipython3",
      "version": "3.7.3"
    },
    "colab": {
      "name": "index.ipynb",
      "provenance": [],
      "collapsed_sections": [
        "o9TvGdhmMfJF",
        "pk_LfuFcMfJh"
      ]
    }
  },
  "cells": [
    {
      "cell_type": "markdown",
      "metadata": {
        "id": "9GSlipSUMfIB",
        "colab_type": "text"
      },
      "source": [
        "## Resilient Distributed Datasets (RDDs) - Lab\n",
        "\n",
        "Resilient Distributed Datasets (RDD) are fundamental data structures of Spark. An RDD is essentially the Spark representation of a set of data, spread across multiple machines, with APIs to let you act on it. An RDD can come from any data source, e.g. text files, a database, a JSON file, etc.\n",
        "\n",
        "\n",
        "## Objectives\n",
        "\n",
        "You will be able to:\n",
        "\n",
        "- Apply the map(func) transformation to a given function on all elements of an RDD in different partitions \n",
        "- Apply a map transformation for all elements of an RDD \n",
        "- Compare the difference between a transformation and an action within RDDs \n",
        "- Use collect(), count(), and take() actions to trigger spark transformations  \n",
        "- Use filter to select data that meets certain specifications within an RDD \n",
        "- Set number of partitions for parallelizing RDDs \n",
        "- Create RDDs from Python collections \n"
      ]
    },
    {
      "cell_type": "code",
      "metadata": {
        "id": "cR6TviCXFp32",
        "colab_type": "code",
        "colab": {}
      },
      "source": [
        ""
      ],
      "execution_count": 0,
      "outputs": []
    },
    {
      "cell_type": "code",
      "metadata": {
        "id": "82RA19Y5ZLT3",
        "colab_type": "code",
        "colab": {}
      },
      "source": [
        "import os\n",
        "os.environ[\"JAVA_HOME\"] = \"/usr/lib/jvm/java-8-openjdk-amd64\"\n",
        "os.environ[\"SPARK_HOME\"] = \"/content/spark-2.4.5-bin-hadoop2.7\""
      ],
      "execution_count": 0,
      "outputs": []
    },
    {
      "cell_type": "code",
      "metadata": {
        "id": "0RsajZD9ZAoh",
        "colab_type": "code",
        "colab": {}
      },
      "source": [
        "!apt-get install openjdk-8-jdk-headless -qq > /dev/null\n",
        "!wget -q https://downloads.apache.org/spark/spark-2.4.5/spark-2.4.5-bin-hadoop2.7.tgz\n",
        "!tar xf spark-2.4.5-bin-hadoop2.7.tgz\n",
        "!pip install -q findspark\n"
      ],
      "execution_count": 0,
      "outputs": []
    },
    {
      "cell_type": "code",
      "metadata": {
        "id": "PJEAuZa_ZPCa",
        "colab_type": "code",
        "colab": {}
      },
      "source": [
        "# import necessary libraries\n",
        "import findspark\n",
        "findspark.init()"
      ],
      "execution_count": 0,
      "outputs": []
    },
    {
      "cell_type": "code",
      "metadata": {
        "id": "G8hjb2pZsXBA",
        "colab_type": "code",
        "colab": {}
      },
      "source": [
        "# import pyspark\n",
        "# from pyspark import SparkContext\n",
        "# sc = pyspark.SparkContext('local[*]')"
      ],
      "execution_count": 0,
      "outputs": []
    },
    {
      "cell_type": "code",
      "metadata": {
        "id": "Onj84kF6ZSiO",
        "colab_type": "code",
        "colab": {}
      },
      "source": [
        "# initialize Spark Session\n",
        "# from pyspark.sql import SparkSession\n",
        "# spark = SparkSession.builder.master(\"local[*]\").getOrCreate()"
      ],
      "execution_count": 0,
      "outputs": []
    },
    {
      "cell_type": "markdown",
      "metadata": {
        "id": "ROYoQP7_MfIC",
        "colab_type": "text"
      },
      "source": [
        "## What are RDDs? \n",
        "\n",
        "To get a better understanding of RDDs, let's break down each one of the components of the acronym RDD:\n",
        "\n",
        "Resilient: RDDs are considered \"resilient\" because they have built-in fault tolerance. This means that even if one of the nodes goes offline, RDDs will be able to restore the data. This is already a huge advantage compared to standard storage. If a standard computer dies while performing an operation, all of its memory will be lost in the process. With RDDs, multiple nodes can go offline, and the action will still be held in working memory.\n",
        "\n",
        "Distributed: The data is contained on multiple nodes of a cluster-computing operation. It is efficiently partitioned to allow for parallelism.\n",
        "\n",
        "Dataset: The dataset has been * partitioned * across the multiple nodes. \n",
        "\n",
        "RDDs are the building block upon which more high-level Spark operations are based upon. Chances are, if you are performing an action using Spark, the operation involves RDDs. \n",
        "\n",
        "\n",
        "\n",
        "Key Characteristics of RDDs:\n",
        "\n",
        "- Immutable: Once an RDD is created, it cannot be modified. \n",
        "- Lazily Evaluated: RDDs will not be evaluated until an action is triggered. Essentially, when RDDs are created, they are programmed to perform some action, but that function will not get activated until it is explicitly called. The reason for lazy evaluation is that allows users to organize the actions of their Spark program into smaller actions. It also saves unnecessary computation and memory load.\n",
        "- In-Memory: The operations in Spark are performed in-memory rather than in the database. This is what allows Spark to perform fast operations with very large quantities of data.\n",
        "\n",
        "\n"
      ]
    },
    {
      "cell_type": "markdown",
      "metadata": {
        "id": "IkQZEDs9MfID",
        "colab_type": "text"
      },
      "source": [
        "### RDD Transformations vs Actions\n",
        "\n",
        "In Spark, we first create a __base RDD__ and then apply one or more transformations to that base RDD following our processing needs. Being immutable means, **once an RDD is created, it cannot be changed**. As a result, **each transformation of an RDD creates a new RDD**. Finally, we can apply one or more **actions** to the RDDs. Spark uses lazy evaluation, so transformations are not actually executed until an action occurs.\n",
        "\n",
        "\n",
        "<img src=\"https://github.com/jammy-bot/dsc-resilient-distributed-datasets-rdd-lab-online-ds-ft-120919/blob/master/images/rdd_diagram.png?raw=1\" width=500>"
      ]
    },
    {
      "cell_type": "markdown",
      "metadata": {
        "id": "NkD71b_zMfIE",
        "colab_type": "text"
      },
      "source": [
        "### Transformations\n",
        "\n",
        "Transformations create a new dataset from an existing one by passing each dataset element through a function and returning a new RDD representing the results. In short, creating an RDD from an existing RDD is ‘transformation’.\n",
        "All transformations in Spark are lazy. They do not compute their results right away. Instead, they just remember the transformations applied to some base dataset (e.g. a file). The transformations are only computed when an action requires a result that needs to be returned to the driver program.\n",
        "A transformation is an RDD that returns another RDD, like map, flatMap, filter, reduceByKey, join, cogroup, etc.\n",
        "\n",
        "### Actions\n",
        "Actions return final results of RDD computations. Actions trigger execution using lineage graph to load the data into original RDD and carry out all intermediate transformations and return the final results to the driver program or writes it out to the file system. An action returns a value (to a Spark driver - the user program).\n",
        "\n",
        "Here are some key transformations and actions that we will explore.\n",
        "\n",
        "\n",
        "| Transformations   | Actions       |\n",
        "|-------------------|---------------|\n",
        "| map(func)         | reduce(func)  |\n",
        "| filter(func)      | collect()     |\n",
        "| groupByKey()      | count()       |\n",
        "| reduceByKey(func) | first()       |\n",
        "| mapValues(func)   | take()        |\n",
        "| sample()          | countByKey()  |\n",
        "| distinct()        | foreach(func) |\n",
        "| sortByKey()       |               |\n"
      ]
    },
    {
      "cell_type": "markdown",
      "metadata": {
        "id": "ZssRku0YMfIF",
        "colab_type": "text"
      },
      "source": [
        "Let's see how transformations and actions work through a simple example. In this example, we will perform several actions and transformations on RDDs in order to obtain a better understanding of Spark processing. \n",
        "\n",
        "### Create a Python collection \n",
        "\n",
        "We need some data to start experimenting with RDDs. Let's create some sample data and see how RDDs handle it. To practice working with RDDs, we're going to use a simple Python list.\n",
        "\n",
        "- Create a Python list `data` of integers between 1 and 1000 using the `range()` function. \n",
        "- Sanity check: confirm the length of the list (it should be 1000)"
      ]
    },
    {
      "cell_type": "code",
      "metadata": {
        "id": "tyuOUhGYMfIF",
        "colab_type": "code",
        "outputId": "cb011588-a3d1-472e-a008-4c74550935ad",
        "colab": {
          "base_uri": "https://localhost:8080/",
          "height": 34
        }
      },
      "source": [
        "data = list(range(1, 1001))\n",
        "len(data)\n",
        "\n",
        "# 1000"
      ],
      "execution_count": 4,
      "outputs": [
        {
          "output_type": "execute_result",
          "data": {
            "text/plain": [
              "1000"
            ]
          },
          "metadata": {
            "tags": []
          },
          "execution_count": 4
        }
      ]
    },
    {
      "cell_type": "markdown",
      "metadata": {
        "id": "Ohfggg0eMfIK",
        "colab_type": "text"
      },
      "source": [
        "### Initialize an RDD\n",
        "\n",
        "When using Spark to make computations, datasets are treated as lists of entries. Those lists are split into different partitions across different cores or different computers. Each list of data held in memory is a partition of the RDD. The reason why Spark is able to make computations far faster than other big data processing languages is that it allows all data to be stored __in-memory__, which allows for easy access to the data and, in turn, high-speed processing. Here is an example of how the alphabet might be split into different RDDs and held across a distributed collection of nodes:\n",
        "\n",
        "<img src =\"./images/partitions_1.png\" width =\"500\">  \n",
        "To initialize an RDD, first import `pyspark` and then create a SparkContext assigned to the variable `sc`. Use `'local[*]'` as the master."
      ]
    },
    {
      "cell_type": "code",
      "metadata": {
        "id": "qG6XF_a8MfIL",
        "colab_type": "code",
        "colab": {}
      },
      "source": [
        "import pyspark\n",
        "sc = pyspark.SparkContext('local[*]')"
      ],
      "execution_count": 0,
      "outputs": []
    },
    {
      "cell_type": "markdown",
      "metadata": {
        "id": "uRgY6T87MfIO",
        "colab_type": "text"
      },
      "source": [
        "Once you've created the SparkContext, you can use the `.parallelize()` method to create an RDD that will distribute the list of numbers across multiple cores. Here, create one called `rdd` with 10 partitions using `data` as the collection you are parallelizing."
      ]
    },
    {
      "cell_type": "code",
      "metadata": {
        "id": "jS6-JLgJMfIP",
        "colab_type": "code",
        "outputId": "02aba5f0-7c01-4fb7-872c-b196369b9d33",
        "colab": {
          "base_uri": "https://localhost:8080/",
          "height": 34
        }
      },
      "source": [
        "rdd = sc.parallelize(data, numSlices=10)\n",
        "print(type(rdd))\n",
        "# <class 'pyspark.rdd.RDD'>"
      ],
      "execution_count": 6,
      "outputs": [
        {
          "output_type": "stream",
          "text": [
            "<class 'pyspark.rdd.RDD'>\n"
          ],
          "name": "stdout"
        }
      ]
    },
    {
      "cell_type": "markdown",
      "metadata": {
        "id": "MQGk5-HKMfIS",
        "colab_type": "text"
      },
      "source": [
        "Determine how many partitions are being used with this RDD with the `.getNumPartitions()` method."
      ]
    },
    {
      "cell_type": "code",
      "metadata": {
        "id": "DcD4zK8aMfIT",
        "colab_type": "code",
        "outputId": "99d2ea37-85df-4c0f-c69b-43ecdf433d85",
        "colab": {
          "base_uri": "https://localhost:8080/",
          "height": 34
        }
      },
      "source": [
        "rdd.getNumPartitions()\n",
        "# 10"
      ],
      "execution_count": 7,
      "outputs": [
        {
          "output_type": "execute_result",
          "data": {
            "text/plain": [
              "10"
            ]
          },
          "metadata": {
            "tags": []
          },
          "execution_count": 7
        }
      ]
    },
    {
      "cell_type": "markdown",
      "metadata": {
        "id": "DYI0zRUiMfIW",
        "colab_type": "text"
      },
      "source": [
        "### Basic descriptive RDD actions\n",
        "\n",
        "Let's perform some basic operations on our RDD. In the cell below, use the methods:\n",
        "* `count`: returns the total count of items in the RDD \n",
        "* `first`: returns the first item in the RDD\n",
        "* `take`: returns the first `n` items in the RDD\n",
        "* `top`: returns the top `n` items\n",
        "* `collect`: returns everything from your RDD\n",
        "\n",
        "\n",
        "It's important to note that in a big data context, calling the collect method will often take a very long time to execute and should be handled with care!"
      ]
    },
    {
      "cell_type": "code",
      "metadata": {
        "scrolled": true,
        "id": "A6VpFa6xMfIX",
        "colab_type": "code",
        "outputId": "180b8d45-9d45-4a3d-9da5-7a357d9e4586",
        "colab": {
          "base_uri": "https://localhost:8080/",
          "height": 34
        }
      },
      "source": [
        "# count\n",
        "rdd.count()"
      ],
      "execution_count": 8,
      "outputs": [
        {
          "output_type": "execute_result",
          "data": {
            "text/plain": [
              "1000"
            ]
          },
          "metadata": {
            "tags": []
          },
          "execution_count": 8
        }
      ]
    },
    {
      "cell_type": "code",
      "metadata": {
        "id": "t8j0p21nMfIb",
        "colab_type": "code",
        "outputId": "4dbb0ab3-7f10-40c8-891c-257ecf10f5b7",
        "colab": {
          "base_uri": "https://localhost:8080/",
          "height": 34
        }
      },
      "source": [
        "# first\n",
        "rdd.first()"
      ],
      "execution_count": 9,
      "outputs": [
        {
          "output_type": "execute_result",
          "data": {
            "text/plain": [
              "1"
            ]
          },
          "metadata": {
            "tags": []
          },
          "execution_count": 9
        }
      ]
    },
    {
      "cell_type": "code",
      "metadata": {
        "id": "7tDyjXQEMfIe",
        "colab_type": "code",
        "outputId": "bb5a06a9-f064-4914-9d2a-f03c560129cc",
        "colab": {
          "base_uri": "https://localhost:8080/",
          "height": 34
        }
      },
      "source": [
        "# take\n",
        "rdd.take(10)"
      ],
      "execution_count": 10,
      "outputs": [
        {
          "output_type": "execute_result",
          "data": {
            "text/plain": [
              "[1, 2, 3, 4, 5, 6, 7, 8, 9, 10]"
            ]
          },
          "metadata": {
            "tags": []
          },
          "execution_count": 10
        }
      ]
    },
    {
      "cell_type": "code",
      "metadata": {
        "id": "pMKeXXqdMfIh",
        "colab_type": "code",
        "outputId": "659f14b4-708f-4fce-adc2-57be992e81fd",
        "colab": {
          "base_uri": "https://localhost:8080/",
          "height": 34
        }
      },
      "source": [
        "# top\n",
        "rdd.top(10)"
      ],
      "execution_count": 11,
      "outputs": [
        {
          "output_type": "execute_result",
          "data": {
            "text/plain": [
              "[1000, 999, 998, 997, 996, 995, 994, 993, 992, 991]"
            ]
          },
          "metadata": {
            "tags": []
          },
          "execution_count": 11
        }
      ]
    },
    {
      "cell_type": "code",
      "metadata": {
        "scrolled": true,
        "id": "f6pDqhlSMfIl",
        "colab_type": "code",
        "outputId": "df99c982-e80e-47af-d365-daedd3c396e2",
        "colab": {
          "base_uri": "https://localhost:8080/",
          "height": 1000
        }
      },
      "source": [
        "# collect\n",
        "rdd.collect()"
      ],
      "execution_count": 12,
      "outputs": [
        {
          "output_type": "execute_result",
          "data": {
            "text/plain": [
              "[1,\n",
              " 2,\n",
              " 3,\n",
              " 4,\n",
              " 5,\n",
              " 6,\n",
              " 7,\n",
              " 8,\n",
              " 9,\n",
              " 10,\n",
              " 11,\n",
              " 12,\n",
              " 13,\n",
              " 14,\n",
              " 15,\n",
              " 16,\n",
              " 17,\n",
              " 18,\n",
              " 19,\n",
              " 20,\n",
              " 21,\n",
              " 22,\n",
              " 23,\n",
              " 24,\n",
              " 25,\n",
              " 26,\n",
              " 27,\n",
              " 28,\n",
              " 29,\n",
              " 30,\n",
              " 31,\n",
              " 32,\n",
              " 33,\n",
              " 34,\n",
              " 35,\n",
              " 36,\n",
              " 37,\n",
              " 38,\n",
              " 39,\n",
              " 40,\n",
              " 41,\n",
              " 42,\n",
              " 43,\n",
              " 44,\n",
              " 45,\n",
              " 46,\n",
              " 47,\n",
              " 48,\n",
              " 49,\n",
              " 50,\n",
              " 51,\n",
              " 52,\n",
              " 53,\n",
              " 54,\n",
              " 55,\n",
              " 56,\n",
              " 57,\n",
              " 58,\n",
              " 59,\n",
              " 60,\n",
              " 61,\n",
              " 62,\n",
              " 63,\n",
              " 64,\n",
              " 65,\n",
              " 66,\n",
              " 67,\n",
              " 68,\n",
              " 69,\n",
              " 70,\n",
              " 71,\n",
              " 72,\n",
              " 73,\n",
              " 74,\n",
              " 75,\n",
              " 76,\n",
              " 77,\n",
              " 78,\n",
              " 79,\n",
              " 80,\n",
              " 81,\n",
              " 82,\n",
              " 83,\n",
              " 84,\n",
              " 85,\n",
              " 86,\n",
              " 87,\n",
              " 88,\n",
              " 89,\n",
              " 90,\n",
              " 91,\n",
              " 92,\n",
              " 93,\n",
              " 94,\n",
              " 95,\n",
              " 96,\n",
              " 97,\n",
              " 98,\n",
              " 99,\n",
              " 100,\n",
              " 101,\n",
              " 102,\n",
              " 103,\n",
              " 104,\n",
              " 105,\n",
              " 106,\n",
              " 107,\n",
              " 108,\n",
              " 109,\n",
              " 110,\n",
              " 111,\n",
              " 112,\n",
              " 113,\n",
              " 114,\n",
              " 115,\n",
              " 116,\n",
              " 117,\n",
              " 118,\n",
              " 119,\n",
              " 120,\n",
              " 121,\n",
              " 122,\n",
              " 123,\n",
              " 124,\n",
              " 125,\n",
              " 126,\n",
              " 127,\n",
              " 128,\n",
              " 129,\n",
              " 130,\n",
              " 131,\n",
              " 132,\n",
              " 133,\n",
              " 134,\n",
              " 135,\n",
              " 136,\n",
              " 137,\n",
              " 138,\n",
              " 139,\n",
              " 140,\n",
              " 141,\n",
              " 142,\n",
              " 143,\n",
              " 144,\n",
              " 145,\n",
              " 146,\n",
              " 147,\n",
              " 148,\n",
              " 149,\n",
              " 150,\n",
              " 151,\n",
              " 152,\n",
              " 153,\n",
              " 154,\n",
              " 155,\n",
              " 156,\n",
              " 157,\n",
              " 158,\n",
              " 159,\n",
              " 160,\n",
              " 161,\n",
              " 162,\n",
              " 163,\n",
              " 164,\n",
              " 165,\n",
              " 166,\n",
              " 167,\n",
              " 168,\n",
              " 169,\n",
              " 170,\n",
              " 171,\n",
              " 172,\n",
              " 173,\n",
              " 174,\n",
              " 175,\n",
              " 176,\n",
              " 177,\n",
              " 178,\n",
              " 179,\n",
              " 180,\n",
              " 181,\n",
              " 182,\n",
              " 183,\n",
              " 184,\n",
              " 185,\n",
              " 186,\n",
              " 187,\n",
              " 188,\n",
              " 189,\n",
              " 190,\n",
              " 191,\n",
              " 192,\n",
              " 193,\n",
              " 194,\n",
              " 195,\n",
              " 196,\n",
              " 197,\n",
              " 198,\n",
              " 199,\n",
              " 200,\n",
              " 201,\n",
              " 202,\n",
              " 203,\n",
              " 204,\n",
              " 205,\n",
              " 206,\n",
              " 207,\n",
              " 208,\n",
              " 209,\n",
              " 210,\n",
              " 211,\n",
              " 212,\n",
              " 213,\n",
              " 214,\n",
              " 215,\n",
              " 216,\n",
              " 217,\n",
              " 218,\n",
              " 219,\n",
              " 220,\n",
              " 221,\n",
              " 222,\n",
              " 223,\n",
              " 224,\n",
              " 225,\n",
              " 226,\n",
              " 227,\n",
              " 228,\n",
              " 229,\n",
              " 230,\n",
              " 231,\n",
              " 232,\n",
              " 233,\n",
              " 234,\n",
              " 235,\n",
              " 236,\n",
              " 237,\n",
              " 238,\n",
              " 239,\n",
              " 240,\n",
              " 241,\n",
              " 242,\n",
              " 243,\n",
              " 244,\n",
              " 245,\n",
              " 246,\n",
              " 247,\n",
              " 248,\n",
              " 249,\n",
              " 250,\n",
              " 251,\n",
              " 252,\n",
              " 253,\n",
              " 254,\n",
              " 255,\n",
              " 256,\n",
              " 257,\n",
              " 258,\n",
              " 259,\n",
              " 260,\n",
              " 261,\n",
              " 262,\n",
              " 263,\n",
              " 264,\n",
              " 265,\n",
              " 266,\n",
              " 267,\n",
              " 268,\n",
              " 269,\n",
              " 270,\n",
              " 271,\n",
              " 272,\n",
              " 273,\n",
              " 274,\n",
              " 275,\n",
              " 276,\n",
              " 277,\n",
              " 278,\n",
              " 279,\n",
              " 280,\n",
              " 281,\n",
              " 282,\n",
              " 283,\n",
              " 284,\n",
              " 285,\n",
              " 286,\n",
              " 287,\n",
              " 288,\n",
              " 289,\n",
              " 290,\n",
              " 291,\n",
              " 292,\n",
              " 293,\n",
              " 294,\n",
              " 295,\n",
              " 296,\n",
              " 297,\n",
              " 298,\n",
              " 299,\n",
              " 300,\n",
              " 301,\n",
              " 302,\n",
              " 303,\n",
              " 304,\n",
              " 305,\n",
              " 306,\n",
              " 307,\n",
              " 308,\n",
              " 309,\n",
              " 310,\n",
              " 311,\n",
              " 312,\n",
              " 313,\n",
              " 314,\n",
              " 315,\n",
              " 316,\n",
              " 317,\n",
              " 318,\n",
              " 319,\n",
              " 320,\n",
              " 321,\n",
              " 322,\n",
              " 323,\n",
              " 324,\n",
              " 325,\n",
              " 326,\n",
              " 327,\n",
              " 328,\n",
              " 329,\n",
              " 330,\n",
              " 331,\n",
              " 332,\n",
              " 333,\n",
              " 334,\n",
              " 335,\n",
              " 336,\n",
              " 337,\n",
              " 338,\n",
              " 339,\n",
              " 340,\n",
              " 341,\n",
              " 342,\n",
              " 343,\n",
              " 344,\n",
              " 345,\n",
              " 346,\n",
              " 347,\n",
              " 348,\n",
              " 349,\n",
              " 350,\n",
              " 351,\n",
              " 352,\n",
              " 353,\n",
              " 354,\n",
              " 355,\n",
              " 356,\n",
              " 357,\n",
              " 358,\n",
              " 359,\n",
              " 360,\n",
              " 361,\n",
              " 362,\n",
              " 363,\n",
              " 364,\n",
              " 365,\n",
              " 366,\n",
              " 367,\n",
              " 368,\n",
              " 369,\n",
              " 370,\n",
              " 371,\n",
              " 372,\n",
              " 373,\n",
              " 374,\n",
              " 375,\n",
              " 376,\n",
              " 377,\n",
              " 378,\n",
              " 379,\n",
              " 380,\n",
              " 381,\n",
              " 382,\n",
              " 383,\n",
              " 384,\n",
              " 385,\n",
              " 386,\n",
              " 387,\n",
              " 388,\n",
              " 389,\n",
              " 390,\n",
              " 391,\n",
              " 392,\n",
              " 393,\n",
              " 394,\n",
              " 395,\n",
              " 396,\n",
              " 397,\n",
              " 398,\n",
              " 399,\n",
              " 400,\n",
              " 401,\n",
              " 402,\n",
              " 403,\n",
              " 404,\n",
              " 405,\n",
              " 406,\n",
              " 407,\n",
              " 408,\n",
              " 409,\n",
              " 410,\n",
              " 411,\n",
              " 412,\n",
              " 413,\n",
              " 414,\n",
              " 415,\n",
              " 416,\n",
              " 417,\n",
              " 418,\n",
              " 419,\n",
              " 420,\n",
              " 421,\n",
              " 422,\n",
              " 423,\n",
              " 424,\n",
              " 425,\n",
              " 426,\n",
              " 427,\n",
              " 428,\n",
              " 429,\n",
              " 430,\n",
              " 431,\n",
              " 432,\n",
              " 433,\n",
              " 434,\n",
              " 435,\n",
              " 436,\n",
              " 437,\n",
              " 438,\n",
              " 439,\n",
              " 440,\n",
              " 441,\n",
              " 442,\n",
              " 443,\n",
              " 444,\n",
              " 445,\n",
              " 446,\n",
              " 447,\n",
              " 448,\n",
              " 449,\n",
              " 450,\n",
              " 451,\n",
              " 452,\n",
              " 453,\n",
              " 454,\n",
              " 455,\n",
              " 456,\n",
              " 457,\n",
              " 458,\n",
              " 459,\n",
              " 460,\n",
              " 461,\n",
              " 462,\n",
              " 463,\n",
              " 464,\n",
              " 465,\n",
              " 466,\n",
              " 467,\n",
              " 468,\n",
              " 469,\n",
              " 470,\n",
              " 471,\n",
              " 472,\n",
              " 473,\n",
              " 474,\n",
              " 475,\n",
              " 476,\n",
              " 477,\n",
              " 478,\n",
              " 479,\n",
              " 480,\n",
              " 481,\n",
              " 482,\n",
              " 483,\n",
              " 484,\n",
              " 485,\n",
              " 486,\n",
              " 487,\n",
              " 488,\n",
              " 489,\n",
              " 490,\n",
              " 491,\n",
              " 492,\n",
              " 493,\n",
              " 494,\n",
              " 495,\n",
              " 496,\n",
              " 497,\n",
              " 498,\n",
              " 499,\n",
              " 500,\n",
              " 501,\n",
              " 502,\n",
              " 503,\n",
              " 504,\n",
              " 505,\n",
              " 506,\n",
              " 507,\n",
              " 508,\n",
              " 509,\n",
              " 510,\n",
              " 511,\n",
              " 512,\n",
              " 513,\n",
              " 514,\n",
              " 515,\n",
              " 516,\n",
              " 517,\n",
              " 518,\n",
              " 519,\n",
              " 520,\n",
              " 521,\n",
              " 522,\n",
              " 523,\n",
              " 524,\n",
              " 525,\n",
              " 526,\n",
              " 527,\n",
              " 528,\n",
              " 529,\n",
              " 530,\n",
              " 531,\n",
              " 532,\n",
              " 533,\n",
              " 534,\n",
              " 535,\n",
              " 536,\n",
              " 537,\n",
              " 538,\n",
              " 539,\n",
              " 540,\n",
              " 541,\n",
              " 542,\n",
              " 543,\n",
              " 544,\n",
              " 545,\n",
              " 546,\n",
              " 547,\n",
              " 548,\n",
              " 549,\n",
              " 550,\n",
              " 551,\n",
              " 552,\n",
              " 553,\n",
              " 554,\n",
              " 555,\n",
              " 556,\n",
              " 557,\n",
              " 558,\n",
              " 559,\n",
              " 560,\n",
              " 561,\n",
              " 562,\n",
              " 563,\n",
              " 564,\n",
              " 565,\n",
              " 566,\n",
              " 567,\n",
              " 568,\n",
              " 569,\n",
              " 570,\n",
              " 571,\n",
              " 572,\n",
              " 573,\n",
              " 574,\n",
              " 575,\n",
              " 576,\n",
              " 577,\n",
              " 578,\n",
              " 579,\n",
              " 580,\n",
              " 581,\n",
              " 582,\n",
              " 583,\n",
              " 584,\n",
              " 585,\n",
              " 586,\n",
              " 587,\n",
              " 588,\n",
              " 589,\n",
              " 590,\n",
              " 591,\n",
              " 592,\n",
              " 593,\n",
              " 594,\n",
              " 595,\n",
              " 596,\n",
              " 597,\n",
              " 598,\n",
              " 599,\n",
              " 600,\n",
              " 601,\n",
              " 602,\n",
              " 603,\n",
              " 604,\n",
              " 605,\n",
              " 606,\n",
              " 607,\n",
              " 608,\n",
              " 609,\n",
              " 610,\n",
              " 611,\n",
              " 612,\n",
              " 613,\n",
              " 614,\n",
              " 615,\n",
              " 616,\n",
              " 617,\n",
              " 618,\n",
              " 619,\n",
              " 620,\n",
              " 621,\n",
              " 622,\n",
              " 623,\n",
              " 624,\n",
              " 625,\n",
              " 626,\n",
              " 627,\n",
              " 628,\n",
              " 629,\n",
              " 630,\n",
              " 631,\n",
              " 632,\n",
              " 633,\n",
              " 634,\n",
              " 635,\n",
              " 636,\n",
              " 637,\n",
              " 638,\n",
              " 639,\n",
              " 640,\n",
              " 641,\n",
              " 642,\n",
              " 643,\n",
              " 644,\n",
              " 645,\n",
              " 646,\n",
              " 647,\n",
              " 648,\n",
              " 649,\n",
              " 650,\n",
              " 651,\n",
              " 652,\n",
              " 653,\n",
              " 654,\n",
              " 655,\n",
              " 656,\n",
              " 657,\n",
              " 658,\n",
              " 659,\n",
              " 660,\n",
              " 661,\n",
              " 662,\n",
              " 663,\n",
              " 664,\n",
              " 665,\n",
              " 666,\n",
              " 667,\n",
              " 668,\n",
              " 669,\n",
              " 670,\n",
              " 671,\n",
              " 672,\n",
              " 673,\n",
              " 674,\n",
              " 675,\n",
              " 676,\n",
              " 677,\n",
              " 678,\n",
              " 679,\n",
              " 680,\n",
              " 681,\n",
              " 682,\n",
              " 683,\n",
              " 684,\n",
              " 685,\n",
              " 686,\n",
              " 687,\n",
              " 688,\n",
              " 689,\n",
              " 690,\n",
              " 691,\n",
              " 692,\n",
              " 693,\n",
              " 694,\n",
              " 695,\n",
              " 696,\n",
              " 697,\n",
              " 698,\n",
              " 699,\n",
              " 700,\n",
              " 701,\n",
              " 702,\n",
              " 703,\n",
              " 704,\n",
              " 705,\n",
              " 706,\n",
              " 707,\n",
              " 708,\n",
              " 709,\n",
              " 710,\n",
              " 711,\n",
              " 712,\n",
              " 713,\n",
              " 714,\n",
              " 715,\n",
              " 716,\n",
              " 717,\n",
              " 718,\n",
              " 719,\n",
              " 720,\n",
              " 721,\n",
              " 722,\n",
              " 723,\n",
              " 724,\n",
              " 725,\n",
              " 726,\n",
              " 727,\n",
              " 728,\n",
              " 729,\n",
              " 730,\n",
              " 731,\n",
              " 732,\n",
              " 733,\n",
              " 734,\n",
              " 735,\n",
              " 736,\n",
              " 737,\n",
              " 738,\n",
              " 739,\n",
              " 740,\n",
              " 741,\n",
              " 742,\n",
              " 743,\n",
              " 744,\n",
              " 745,\n",
              " 746,\n",
              " 747,\n",
              " 748,\n",
              " 749,\n",
              " 750,\n",
              " 751,\n",
              " 752,\n",
              " 753,\n",
              " 754,\n",
              " 755,\n",
              " 756,\n",
              " 757,\n",
              " 758,\n",
              " 759,\n",
              " 760,\n",
              " 761,\n",
              " 762,\n",
              " 763,\n",
              " 764,\n",
              " 765,\n",
              " 766,\n",
              " 767,\n",
              " 768,\n",
              " 769,\n",
              " 770,\n",
              " 771,\n",
              " 772,\n",
              " 773,\n",
              " 774,\n",
              " 775,\n",
              " 776,\n",
              " 777,\n",
              " 778,\n",
              " 779,\n",
              " 780,\n",
              " 781,\n",
              " 782,\n",
              " 783,\n",
              " 784,\n",
              " 785,\n",
              " 786,\n",
              " 787,\n",
              " 788,\n",
              " 789,\n",
              " 790,\n",
              " 791,\n",
              " 792,\n",
              " 793,\n",
              " 794,\n",
              " 795,\n",
              " 796,\n",
              " 797,\n",
              " 798,\n",
              " 799,\n",
              " 800,\n",
              " 801,\n",
              " 802,\n",
              " 803,\n",
              " 804,\n",
              " 805,\n",
              " 806,\n",
              " 807,\n",
              " 808,\n",
              " 809,\n",
              " 810,\n",
              " 811,\n",
              " 812,\n",
              " 813,\n",
              " 814,\n",
              " 815,\n",
              " 816,\n",
              " 817,\n",
              " 818,\n",
              " 819,\n",
              " 820,\n",
              " 821,\n",
              " 822,\n",
              " 823,\n",
              " 824,\n",
              " 825,\n",
              " 826,\n",
              " 827,\n",
              " 828,\n",
              " 829,\n",
              " 830,\n",
              " 831,\n",
              " 832,\n",
              " 833,\n",
              " 834,\n",
              " 835,\n",
              " 836,\n",
              " 837,\n",
              " 838,\n",
              " 839,\n",
              " 840,\n",
              " 841,\n",
              " 842,\n",
              " 843,\n",
              " 844,\n",
              " 845,\n",
              " 846,\n",
              " 847,\n",
              " 848,\n",
              " 849,\n",
              " 850,\n",
              " 851,\n",
              " 852,\n",
              " 853,\n",
              " 854,\n",
              " 855,\n",
              " 856,\n",
              " 857,\n",
              " 858,\n",
              " 859,\n",
              " 860,\n",
              " 861,\n",
              " 862,\n",
              " 863,\n",
              " 864,\n",
              " 865,\n",
              " 866,\n",
              " 867,\n",
              " 868,\n",
              " 869,\n",
              " 870,\n",
              " 871,\n",
              " 872,\n",
              " 873,\n",
              " 874,\n",
              " 875,\n",
              " 876,\n",
              " 877,\n",
              " 878,\n",
              " 879,\n",
              " 880,\n",
              " 881,\n",
              " 882,\n",
              " 883,\n",
              " 884,\n",
              " 885,\n",
              " 886,\n",
              " 887,\n",
              " 888,\n",
              " 889,\n",
              " 890,\n",
              " 891,\n",
              " 892,\n",
              " 893,\n",
              " 894,\n",
              " 895,\n",
              " 896,\n",
              " 897,\n",
              " 898,\n",
              " 899,\n",
              " 900,\n",
              " 901,\n",
              " 902,\n",
              " 903,\n",
              " 904,\n",
              " 905,\n",
              " 906,\n",
              " 907,\n",
              " 908,\n",
              " 909,\n",
              " 910,\n",
              " 911,\n",
              " 912,\n",
              " 913,\n",
              " 914,\n",
              " 915,\n",
              " 916,\n",
              " 917,\n",
              " 918,\n",
              " 919,\n",
              " 920,\n",
              " 921,\n",
              " 922,\n",
              " 923,\n",
              " 924,\n",
              " 925,\n",
              " 926,\n",
              " 927,\n",
              " 928,\n",
              " 929,\n",
              " 930,\n",
              " 931,\n",
              " 932,\n",
              " 933,\n",
              " 934,\n",
              " 935,\n",
              " 936,\n",
              " 937,\n",
              " 938,\n",
              " 939,\n",
              " 940,\n",
              " 941,\n",
              " 942,\n",
              " 943,\n",
              " 944,\n",
              " 945,\n",
              " 946,\n",
              " 947,\n",
              " 948,\n",
              " 949,\n",
              " 950,\n",
              " 951,\n",
              " 952,\n",
              " 953,\n",
              " 954,\n",
              " 955,\n",
              " 956,\n",
              " 957,\n",
              " 958,\n",
              " 959,\n",
              " 960,\n",
              " 961,\n",
              " 962,\n",
              " 963,\n",
              " 964,\n",
              " 965,\n",
              " 966,\n",
              " 967,\n",
              " 968,\n",
              " 969,\n",
              " 970,\n",
              " 971,\n",
              " 972,\n",
              " 973,\n",
              " 974,\n",
              " 975,\n",
              " 976,\n",
              " 977,\n",
              " 978,\n",
              " 979,\n",
              " 980,\n",
              " 981,\n",
              " 982,\n",
              " 983,\n",
              " 984,\n",
              " 985,\n",
              " 986,\n",
              " 987,\n",
              " 988,\n",
              " 989,\n",
              " 990,\n",
              " 991,\n",
              " 992,\n",
              " 993,\n",
              " 994,\n",
              " 995,\n",
              " 996,\n",
              " 997,\n",
              " 998,\n",
              " 999,\n",
              " 1000]"
            ]
          },
          "metadata": {
            "tags": []
          },
          "execution_count": 12
        }
      ]
    },
    {
      "cell_type": "markdown",
      "metadata": {
        "id": "linvx2wrMfIo",
        "colab_type": "text"
      },
      "source": [
        "## Map functions\n",
        "\n",
        "Now that you've been working a little bit with RDDs, let's make this a little more interesting. Imagine you're running a hot new e-commerce startup called BuyStuff, and you're trying to track of how much it charges customers from each item sold. In the next cell, we're going to create simulated data by multiplying the values 1-1000 with a random number from 0-1."
      ]
    },
    {
      "cell_type": "code",
      "metadata": {
        "id": "Nsq0T_hYMfIp",
        "colab_type": "code",
        "outputId": "f29bb3e6-ff7d-4710-d4fc-fb2d16205036",
        "colab": {
          "base_uri": "https://localhost:8080/",
          "height": 1000
        }
      },
      "source": [
        "import random\n",
        "import numpy as np\n",
        "\n",
        "nums = np.array(range(1, 1001))\n",
        "sales_figures = nums * np.random.rand(1000)\n",
        "sales_figures"
      ],
      "execution_count": 13,
      "outputs": [
        {
          "output_type": "execute_result",
          "data": {
            "text/plain": [
              "array([6.39650841e-01, 1.81353728e+00, 3.78179794e-01, 8.84718660e-01,\n",
              "       2.23945373e+00, 2.70253968e-01, 6.87641705e+00, 5.09316699e+00,\n",
              "       4.24696497e+00, 4.52894076e+00, 1.98363163e-01, 9.93703585e+00,\n",
              "       1.19374297e+01, 1.15418016e+01, 8.82599832e+00, 5.84384179e+00,\n",
              "       1.15098391e+01, 1.25627222e+01, 1.05218632e+01, 8.21929205e+00,\n",
              "       1.94805947e+01, 5.48705136e+00, 1.93127317e+01, 4.95925113e+00,\n",
              "       2.27697764e+01, 1.86477278e+01, 1.53659816e+01, 2.51492117e+01,\n",
              "       1.14713626e+01, 2.14913093e+01, 2.26105068e+01, 1.10394086e+01,\n",
              "       2.65671701e+01, 2.43128567e+01, 2.03175254e+01, 1.11019808e+01,\n",
              "       7.08277184e+00, 3.04157426e+01, 3.79863898e+01, 3.59979935e+01,\n",
              "       3.80834721e+01, 1.28478014e+01, 3.07460071e+01, 2.82163361e+01,\n",
              "       2.18171740e+01, 2.55897851e+01, 6.44746020e-01, 1.44491585e+01,\n",
              "       2.67896027e+01, 4.91549714e+01, 1.38985736e+01, 3.24463249e+00,\n",
              "       1.19581177e+01, 1.93826670e+01, 3.78924348e+01, 2.46064718e+01,\n",
              "       7.40475205e+00, 2.51509323e+00, 4.71673117e+01, 6.25276872e+00,\n",
              "       3.67580630e+00, 3.11592181e+01, 4.60398725e+01, 1.30462482e+01,\n",
              "       5.02105280e+01, 3.81224736e+01, 1.64197327e+01, 4.24296574e+01,\n",
              "       1.10832421e+01, 2.34559817e+01, 4.74147727e+01, 1.73819656e+01,\n",
              "       5.86283024e+01, 1.99244463e+01, 4.74753142e+01, 5.97588260e+01,\n",
              "       3.53151630e+01, 4.97340994e+00, 1.60579372e+01, 6.37791268e+01,\n",
              "       2.30738287e+01, 7.82423549e+01, 5.62659354e+01, 6.51117173e+00,\n",
              "       3.94661473e+01, 7.45008633e+01, 7.06613370e+01, 8.05990008e+01,\n",
              "       9.52386327e+00, 8.14228775e+01, 4.26142527e+01, 3.83018071e+01,\n",
              "       2.19232582e+01, 3.86472525e+01, 3.02155078e+01, 5.28164973e+01,\n",
              "       9.57456183e+00, 6.21313795e+01, 5.85556418e+01, 8.56855276e+01,\n",
              "       9.88139991e+01, 2.39252247e+01, 8.47810196e+01, 4.19905316e+01,\n",
              "       3.56813933e+01, 1.44458918e+01, 4.16739520e+00, 8.88483670e+01,\n",
              "       3.19510325e+01, 3.00223468e+01, 3.66223076e+01, 4.12320938e+01,\n",
              "       1.06982952e+02, 6.42732205e+01, 1.84085618e+01, 2.47980785e+01,\n",
              "       1.16134623e+02, 6.33866563e+01, 6.28551348e+01, 1.64214029e+01,\n",
              "       7.24296160e+01, 1.11334440e+01, 4.59583515e+01, 9.81146505e+01,\n",
              "       4.44273510e+01, 1.18069782e+02, 7.76293773e+01, 3.05934249e+01,\n",
              "       5.98727814e+01, 1.16819690e+02, 9.34759996e+01, 5.09768565e+01,\n",
              "       6.63573009e+01, 3.14317868e+01, 8.06598830e+01, 1.04724061e+02,\n",
              "       4.93288391e+01, 7.13990789e+01, 8.03164121e+01, 7.15050325e+01,\n",
              "       3.28798229e-01, 8.14850798e+01, 9.68881475e+01, 4.47606265e+01,\n",
              "       1.21655095e+02, 1.05635816e+02, 9.63047000e+01, 1.09988069e+02,\n",
              "       7.95503236e+01, 1.14747555e+02, 5.12472035e+01, 1.07490203e+02,\n",
              "       1.13081193e+02, 1.11507272e+02, 1.26315334e+02, 1.33256094e+02,\n",
              "       1.25004039e+02, 1.43607687e+02, 8.36187357e+01, 1.44717168e+02,\n",
              "       1.60284882e+02, 3.64894196e+01, 1.09081262e+02, 9.97449487e+01,\n",
              "       1.01191862e+02, 1.56383162e+02, 8.46128127e+01, 9.78513961e+01,\n",
              "       3.61202490e+01, 6.00644704e+01, 1.59934046e+02, 9.93644091e+01,\n",
              "       1.58867989e+02, 1.47126721e+02, 1.15988231e+02, 9.29841751e+01,\n",
              "       1.41176244e+02, 1.04509867e+02, 6.92875322e+01, 1.18174624e+02,\n",
              "       2.77814881e+01, 2.74365292e+01, 6.46619070e+01, 9.44472476e+01,\n",
              "       2.12132220e+01, 1.76927131e+02, 1.07136782e+02, 1.38230696e+02,\n",
              "       8.62560738e+01, 9.92034051e+01, 9.25309580e+01, 1.37894124e+02,\n",
              "       1.74961843e+02, 1.81018428e+02, 1.50022727e+02, 1.68493374e+02,\n",
              "       5.17722349e+01, 9.37257484e+01, 4.88372494e+01, 1.50649353e+02,\n",
              "       9.77067819e+01, 8.95445004e+01, 4.92901403e+01, 1.93241601e+02,\n",
              "       1.01716751e+02, 8.05561665e+01, 5.48074270e+01, 1.17999628e+02,\n",
              "       2.07375124e+02, 6.03933812e+01, 9.03506422e+01, 6.89627719e+00,\n",
              "       1.98379447e+02, 2.01431036e+02, 1.82970048e+01, 2.91149127e+01,\n",
              "       7.83151078e+01, 2.10047996e+02, 4.38289813e+01, 3.84516134e+01,\n",
              "       1.62938664e+02, 8.33804358e+01, 1.60303436e+02, 1.71414061e+02,\n",
              "       1.50739339e+02, 1.38708623e+02, 2.23591842e+02, 2.16019783e+02,\n",
              "       2.61482667e+01, 2.81931471e+01, 1.06761756e+02, 1.38534326e+02,\n",
              "       1.64423607e+02, 8.43276472e+01, 6.33974123e+01, 1.90412368e+01,\n",
              "       4.36286100e+01, 1.91595447e+02, 8.25362177e+01, 1.61127638e+02,\n",
              "       2.02332905e+02, 7.19090539e+01, 1.60599062e+02, 1.87774147e+02,\n",
              "       6.59925677e+01, 1.88342137e+02, 1.76175420e+02, 1.45896872e+02,\n",
              "       9.35848946e+01, 1.60299972e+02, 1.77370287e+02, 2.38484197e+02,\n",
              "       8.74267127e+01, 1.06678494e+02, 5.53502953e+01, 7.02795646e+01,\n",
              "       2.37299565e+02, 1.96726199e+02, 2.46732697e+02, 7.70301547e+01,\n",
              "       2.35068104e+01, 1.83753218e+02, 3.68456195e+01, 2.59694490e+01,\n",
              "       1.57656373e+02, 1.10879232e+02, 2.05576975e+02, 1.18321093e+02,\n",
              "       1.76204550e+02, 1.05374066e+01, 2.33901602e+02, 1.90583980e+02,\n",
              "       1.94353601e+02, 1.23523359e+02, 4.91532091e+01, 1.85399275e+02,\n",
              "       1.24768750e+02, 8.91425896e+01, 2.16779546e+01, 2.45965030e+02,\n",
              "       2.57900395e+02, 3.66015613e+01, 1.12469778e+02, 1.39670362e+02,\n",
              "       2.69850749e+02, 2.29637835e+02, 8.16207518e+01, 3.40572021e+01,\n",
              "       3.01533062e+01, 2.88332333e+01, 4.22786140e+00, 1.39346576e+02,\n",
              "       2.16369032e+02, 2.86606394e+02, 2.94032956e+01, 2.80492401e+02,\n",
              "       1.26917363e+02, 2.79375653e+02, 1.35761211e+02, 1.15840087e+02,\n",
              "       8.23635270e+01, 1.01519030e+02, 1.62023808e+02, 2.36333439e+02,\n",
              "       2.38271708e+02, 1.92697791e+02, 2.47028222e+02, 1.38802651e+02,\n",
              "       2.09102595e+01, 1.96273844e+02, 8.45836545e+01, 1.22134284e+02,\n",
              "       1.75682483e+02, 1.98537044e+02, 1.38809833e+02, 2.55282556e+02,\n",
              "       1.14007201e+02, 2.99015771e+02, 2.64537097e+02, 2.78882807e+02,\n",
              "       2.11991354e+00, 1.41872095e+01, 2.17581036e+02, 2.22716428e+02,\n",
              "       2.78073741e+02, 3.08441923e+02, 1.79046424e+02, 3.48550348e+01,\n",
              "       8.87294817e+01, 2.49171010e+01, 2.14735222e+02, 2.79448032e+02,\n",
              "       7.71404453e+01, 2.63579917e+02, 3.06477068e+01, 1.93046758e+02,\n",
              "       3.19868069e+01, 3.10315000e+02, 7.48761894e+01, 2.64994183e+02,\n",
              "       2.35459594e+02, 2.21827234e+02, 2.60031824e+02, 2.01830869e+02,\n",
              "       2.13858445e+02, 1.53623529e+02, 2.16974987e+02, 1.80149855e+02,\n",
              "       5.56491570e+01, 2.48130019e+02, 9.41230208e+00, 9.52122718e+01,\n",
              "       1.66337490e+02, 4.09217003e+00, 2.93594042e+02, 1.95036211e+02,\n",
              "       3.12040248e+02, 2.97244143e+02, 1.63081040e+02, 1.73165913e+02,\n",
              "       1.55643176e+01, 2.50468142e+02, 1.23823326e+02, 2.89499152e+02,\n",
              "       2.95049297e+02, 1.65058667e+02, 9.53781860e+01, 4.68536442e+01,\n",
              "       2.68886078e+02, 7.55377951e+01, 2.68991660e+02, 1.68449609e+02,\n",
              "       2.43767482e+02, 2.86903078e+02, 1.00127897e+02, 9.95003796e+01,\n",
              "       2.45757625e+02, 3.08403070e+02, 2.21394329e+02, 1.16835769e+02,\n",
              "       2.08908023e+02, 7.25162424e+01, 3.54074271e+01, 2.97991169e+02,\n",
              "       2.13404926e+02, 2.48833580e+02, 2.06570451e+02, 3.79653938e+02,\n",
              "       1.45328754e+02, 5.84922632e+01, 1.31253171e+02, 1.62565675e+02,\n",
              "       1.17099433e+02, 3.02397144e+01, 1.46005752e+02, 8.42349218e+01,\n",
              "       1.81586456e+02, 1.65821403e+02, 5.27630287e+01, 2.45432570e+02,\n",
              "       3.94323062e+02, 9.36577914e+00, 3.09685350e+02, 2.44701446e+02,\n",
              "       3.34596856e+02, 5.75421140e+01, 2.79163977e+01, 1.23442306e+01,\n",
              "       1.53810736e+02, 4.06906738e+01, 2.27587833e+02, 1.43264521e+02,\n",
              "       3.59032220e+02, 7.85146499e+01, 1.98264388e+02, 2.20620705e+02,\n",
              "       1.68850681e+02, 2.39980983e+02, 2.68422954e+02, 3.30835886e+02,\n",
              "       2.29604894e+02, 2.76813973e+02, 4.14473945e+02, 1.55762948e+02,\n",
              "       4.15440859e+02, 2.86567106e+02, 2.39799348e+02, 1.53982286e+02,\n",
              "       2.18523793e+02, 3.39100121e+02, 7.47728112e+01, 4.31361157e+02,\n",
              "       3.10110106e+02, 4.12458820e+02, 1.49843843e+02, 1.32576360e+02,\n",
              "       3.02992888e+02, 1.29141665e+02, 3.79365906e+01, 3.06436039e+02,\n",
              "       3.01444893e+02, 4.40984161e+02, 4.06333046e+02, 7.96169123e+01,\n",
              "       3.91491320e+02, 1.89896845e+02, 3.86115082e+02, 2.78386363e+02,\n",
              "       3.73413617e+01, 2.44324718e+02, 2.54723546e+02, 2.87071806e+02,\n",
              "       1.23492540e+02, 3.55433866e+02, 2.41435324e+02, 4.50079089e+02,\n",
              "       3.27154963e+02, 7.82109676e+01, 3.63670133e+02, 2.86930843e+02,\n",
              "       2.19258914e+02, 6.85586719e+01, 4.44725522e+02, 3.30218645e+02,\n",
              "       4.44729555e+02, 1.20284436e+02, 3.86543012e+01, 1.78131515e+01,\n",
              "       2.39632955e+00, 4.09944108e+02, 4.63806657e+02, 2.70193852e+02,\n",
              "       3.98257165e+02, 1.55704955e+02, 3.37201596e+02, 7.26852537e+00,\n",
              "       3.90270508e+02, 2.11020567e+01, 1.43448722e+02, 3.35500336e+02,\n",
              "       2.52178610e+02, 2.25750837e+02, 3.30834106e+02, 2.23473728e+02,\n",
              "       3.24496456e+01, 2.94292116e+02, 2.34925103e+02, 2.49876406e+02,\n",
              "       3.54430198e+02, 4.38479035e+02, 3.03423230e+02, 2.44738119e+02,\n",
              "       4.26400373e+02, 1.26311769e+02, 1.53375418e+02, 4.95391733e+02,\n",
              "       1.32310182e+02, 1.75013357e+02, 2.56163304e+02, 2.19556725e+02,\n",
              "       4.69066538e+02, 3.00416816e+02, 2.91957007e+02, 4.80426714e+02,\n",
              "       3.98434024e+02, 4.35126306e+02, 3.33222522e+01, 3.53831318e+02,\n",
              "       4.21403272e+02, 3.29864542e+02, 3.60977659e+02, 2.04183895e+02,\n",
              "       1.28565611e+02, 9.01563472e+01, 1.49361171e+02, 4.18284012e+02,\n",
              "       1.51905172e+02, 4.08552471e+02, 3.36140283e+02, 3.43064126e+02,\n",
              "       1.01923937e+02, 4.09044560e+02, 9.22879863e+01, 1.83893191e+02,\n",
              "       3.22914286e+02, 1.77317624e+02, 9.21830217e+01, 8.58336035e+01,\n",
              "       4.06657707e+01, 5.30611179e+01, 2.17537093e+01, 7.71128689e+01,\n",
              "       9.85803476e+01, 3.87144310e+01, 3.19038212e+02, 1.23136790e+02,\n",
              "       3.51580653e+02, 1.90215987e+02, 3.60407942e+02, 7.93517061e+01,\n",
              "       1.10175887e+01, 1.65457300e+02, 2.02258838e+01, 4.95808034e+01,\n",
              "       1.29946409e+02, 4.30052663e+02, 5.12101161e+02, 1.73317050e+02,\n",
              "       2.66750745e+02, 2.20583436e+02, 4.79164302e+02, 1.44656212e+02,\n",
              "       4.24992816e+02, 5.29242464e+01, 3.32510034e+02, 2.57851304e+02,\n",
              "       4.47671936e+02, 2.65852684e+02, 3.91931148e+02, 3.45385728e+02,\n",
              "       3.91565317e+02, 6.26409748e+01, 5.56048518e+01, 1.79356543e+02,\n",
              "       5.56630791e+02, 2.92321729e+02, 3.34144380e+02, 2.69276672e+02,\n",
              "       1.74539504e+02, 1.68571653e+02, 4.03590035e+02, 5.34427665e+02,\n",
              "       3.40736472e+02, 4.10492049e+02, 1.24429161e+02, 5.65049501e+02,\n",
              "       1.72110360e+02, 1.04979008e+02, 3.82718035e+02, 4.70599851e+02,\n",
              "       2.91861130e+02, 6.50228791e+01, 9.33271678e+01, 1.31410455e+02,\n",
              "       1.19970727e+02, 9.70513292e+00, 5.68157606e+02, 4.46797963e+02,\n",
              "       6.22331413e+01, 5.04744597e+02, 2.97309161e+02, 4.78990761e+02,\n",
              "       2.48432270e+02, 5.67515400e+02, 2.21898195e+02, 4.95736502e+01,\n",
              "       3.44977822e+02, 9.67686075e+01, 3.80774542e+02, 2.40602243e+02,\n",
              "       3.77198418e+02, 3.94252278e+02, 4.45986205e+02, 6.03963109e+02,\n",
              "       5.18703353e+02, 1.83560929e+01, 3.69483358e+02, 4.96378801e+02,\n",
              "       6.07401943e+02, 3.46297278e+02, 5.02744523e+02, 9.29568036e+01,\n",
              "       2.35556837e+02, 2.51823935e+02, 4.17443345e+02, 5.63853116e+02,\n",
              "       4.64936574e+02, 5.64873901e+02, 2.30560192e+00, 6.10458448e+02,\n",
              "       8.63957777e+00, 3.27611491e+02, 5.14918096e+02, 1.88801476e+02,\n",
              "       4.36627374e+01, 1.11216420e+02, 2.76145570e+02, 3.58953846e+02,\n",
              "       4.88016185e+02, 5.59339877e+02, 4.32153220e+02, 2.45035152e+02,\n",
              "       5.71753677e+02, 8.08133511e+01, 1.32957605e+02, 4.16073840e+02,\n",
              "       4.92980060e+02, 6.34092347e+02, 1.30888938e+02, 4.91661428e+02,\n",
              "       4.70761099e+02, 3.51151148e+02, 2.90051849e+02, 1.77651046e+02,\n",
              "       2.94942196e+02, 5.69151080e+02, 1.20840438e+02, 2.45514659e+02,\n",
              "       2.67283370e+02, 5.66744472e+02, 2.11738010e+02, 6.06919859e+02,\n",
              "       5.82752159e+02, 3.35000559e+02, 2.47887261e+02, 2.34437533e+02,\n",
              "       1.02117840e+02, 7.97503043e+01, 3.14965458e+02, 3.35583852e+02,\n",
              "       6.02421195e+02, 9.00120467e+01, 3.78298187e+02, 4.86246142e+02,\n",
              "       2.46667525e+02, 6.05826545e+02, 1.21630498e+02, 5.24530224e+02,\n",
              "       6.65874570e+02, 1.96776614e+02, 6.46731469e+02, 5.59070015e+02,\n",
              "       6.71166203e+02, 6.83279324e+00, 5.86586726e+02, 4.28053013e+02,\n",
              "       5.13824409e+02, 2.61036161e+02, 3.43148774e+02, 5.96917823e+02,\n",
              "       3.88695830e+02, 6.28843491e+02, 7.08184908e+01, 3.38599437e+02,\n",
              "       6.70849079e+02, 5.23848146e+02, 2.54247805e+02, 3.84080193e+01,\n",
              "       3.79312756e+02, 4.76924503e+02, 6.65197892e+02, 3.34713810e+02,\n",
              "       5.61820559e+02, 4.61399616e+02, 5.86258852e+02, 4.46326988e+02,\n",
              "       6.77600079e+01, 6.62883552e+02, 3.01689927e+02, 5.12755305e+02,\n",
              "       4.33802148e+02, 6.96506273e+02, 3.76490205e+02, 1.59304763e+02,\n",
              "       2.92533074e+02, 5.23907037e+02, 6.67735037e+02, 4.35172869e+02,\n",
              "       5.12641766e+02, 5.78972112e+02, 3.22986927e+02, 6.65672822e+02,\n",
              "       1.39309673e+02, 2.47959390e+02, 5.35108916e+02, 3.91200866e+02,\n",
              "       6.51379406e+02, 5.63356547e+02, 1.47123597e+02, 7.71066284e+01,\n",
              "       1.81034821e+02, 6.41754380e+02, 3.67138164e+02, 4.74667052e+02,\n",
              "       6.58234852e+02, 4.23082595e+02, 1.43974377e+02, 5.80213598e+02,\n",
              "       5.65769997e+01, 2.58493783e+02, 6.41819813e+02, 3.02691908e+02,\n",
              "       1.82221884e+02, 6.58597678e+01, 5.84535973e+02, 5.42954370e+02,\n",
              "       1.09253141e+02, 3.93120143e+02, 1.51999547e+02, 6.04481232e+02,\n",
              "       8.91073777e+00, 4.53535612e+02, 3.93671048e+02, 5.53469793e+02,\n",
              "       4.58523941e+02, 4.35779997e+02, 5.17511166e+02, 5.72666853e+02,\n",
              "       1.25612335e+02, 4.23561359e+02, 3.83395853e+02, 6.11989893e+02,\n",
              "       3.64880707e+02, 2.75256543e+02, 4.86022372e+01, 1.98102459e+02,\n",
              "       4.47433520e+02, 3.85017050e+02, 5.74803184e+02, 2.40848967e+01,\n",
              "       6.32823341e+02, 6.76618526e+02, 3.40796849e+02, 5.96811037e+01,\n",
              "       3.26958956e+02, 5.91760727e+02, 5.42204896e+02, 2.55337751e+02,\n",
              "       5.20730914e+02, 5.37053791e+02, 6.29499697e+02, 6.58723761e+01,\n",
              "       7.14164559e+02, 2.89208568e+02, 2.26496788e+02, 7.46562088e+02,\n",
              "       4.18643835e+02, 3.93970181e+02, 1.65691049e+02, 7.82320602e+01,\n",
              "       4.94861530e+02, 5.45023096e+02, 5.40712890e+02, 4.93148866e+02,\n",
              "       2.92438442e+01, 6.88310230e+02, 7.75954597e+02, 5.93401474e+02,\n",
              "       1.89022820e+02, 1.91021444e+02, 3.26174579e+02, 4.45232299e+02,\n",
              "       6.04775782e+02, 7.71475524e+02, 3.97658636e+02, 6.60973890e+01,\n",
              "       1.20320547e+02, 5.65155326e+02, 7.60221720e+02, 2.54083070e+02,\n",
              "       5.27770821e+02, 6.78788678e+02, 2.08002953e+02, 3.55941571e+02,\n",
              "       4.78428029e+02, 4.19745195e+01, 1.33846261e+02, 3.82726442e+02,\n",
              "       3.23464335e+02, 2.05022360e+02, 5.64972826e+02, 2.28195396e+02,\n",
              "       4.10673118e+02, 4.56081174e+02, 1.81949354e+02, 7.18051882e+02,\n",
              "       4.88240082e+02, 1.66250520e+02, 3.46797406e+02, 8.52597507e+01,\n",
              "       6.39870685e+02, 7.60220739e+02, 6.62256127e+02, 1.48918670e+02,\n",
              "       3.63883864e+02, 7.10162080e+02, 6.57065175e+02, 2.25419176e+02,\n",
              "       4.91374288e+02, 1.63878778e+02, 5.84482069e+02, 5.52145280e+02,\n",
              "       2.31864631e+02, 7.07399443e+02, 1.43891288e+02, 5.15601277e+02,\n",
              "       3.32841011e+02, 2.26811762e+02, 7.54915993e+02, 2.91673737e+02,\n",
              "       1.88609694e+02, 4.73064715e+02, 3.74156580e+02, 4.33878498e+02,\n",
              "       4.92993037e+02, 5.98604456e+02, 3.07889688e+02, 3.14854935e+01,\n",
              "       3.86298114e+02, 3.08669475e+02, 1.52650052e+02, 3.58818122e+02,\n",
              "       5.98534859e+02, 6.43901392e+02, 3.57440940e+02, 1.50732577e+02,\n",
              "       1.02376246e+02, 4.77930711e+02, 8.18897394e+02, 7.73624389e+02,\n",
              "       7.93666213e+02, 1.32018769e+02, 2.63641784e+02, 1.58230154e+02,\n",
              "       6.46293644e+02, 7.47879453e+02, 7.82440921e+02, 6.03048965e+02,\n",
              "       5.65486190e+02, 7.85205600e+02, 6.71850823e+02, 3.77793992e+02,\n",
              "       8.61201473e+01, 7.30936569e+02, 1.97288591e+02, 6.13334927e+02,\n",
              "       9.69059335e+01, 4.04835296e+01, 8.71320125e+02, 1.82547470e+01,\n",
              "       1.35591498e+02, 3.31859020e+02, 6.82316768e+01, 6.45608842e+02,\n",
              "       4.49530396e+02, 6.36646423e+02, 2.92105444e+02, 5.31062056e+02,\n",
              "       3.72599799e+02, 1.94843273e+02, 7.10020675e+02, 4.22969865e+02,\n",
              "       8.66323137e+02, 6.42018938e+02, 6.82681802e+02, 6.73880402e+01,\n",
              "       3.41655590e+02, 3.29199236e+02, 4.76860768e+02, 2.06965888e+02,\n",
              "       3.08063935e+01, 1.34407603e+02, 7.01524245e+02, 3.06571479e+02,\n",
              "       1.26322653e+02, 7.77884192e+02, 3.65485522e+02, 5.58987825e+02,\n",
              "       3.09658986e+02, 2.22667835e+02, 8.13752632e+02, 4.47395088e+02,\n",
              "       4.28175388e+02, 6.76541461e+02, 7.86639669e+02, 6.89602404e+01,\n",
              "       4.76571696e+02, 8.28176969e+02, 6.69634708e+02, 7.99095661e+02,\n",
              "       3.29821318e+02, 3.03576610e+02, 4.00215024e+02, 3.69394731e+02,\n",
              "       5.17049869e+01, 3.58135682e+02, 6.90779388e+02, 8.01358757e+01,\n",
              "       8.15053032e+02, 9.06671622e+02, 4.45818773e+02, 2.60061916e+01,\n",
              "       8.08778919e+02, 8.65970292e+02, 8.68887941e+02, 8.47824575e+02,\n",
              "       6.89231919e+02, 7.16743005e+02, 7.52690969e+01, 1.15122369e+02,\n",
              "       9.82352017e+01, 1.62360265e+02, 5.19555574e+01, 1.78946141e+02,\n",
              "       7.70805992e+02, 6.16510208e+02, 4.34744515e+02, 2.96200560e+02,\n",
              "       6.77235877e+02, 8.39978849e+02, 1.07748471e+02, 1.46291631e+02,\n",
              "       8.49346714e+02, 3.53206549e+01, 1.98527696e+02, 2.85206013e+02,\n",
              "       3.50665484e+02, 1.85743947e+02, 8.08335969e+02, 5.64740427e+02,\n",
              "       5.39369477e+01, 4.02263637e+02, 8.22303998e+02, 3.63891658e+02,\n",
              "       2.76633216e+02, 9.51718181e+02, 3.39522358e+02, 8.24344516e+02,\n",
              "       6.50155150e+02, 7.37301688e+02, 2.94407092e+02, 2.68300126e+02,\n",
              "       2.97275444e+01, 7.80499563e+02, 2.62746916e+02, 7.94191029e+02,\n",
              "       8.41661171e+02, 7.74742283e+02, 5.07438986e+01, 7.57837058e+02,\n",
              "       1.26507238e+02, 1.11500430e+02, 3.48779272e+02, 2.11425641e+02,\n",
              "       5.35308889e+01, 7.31366853e+02, 3.99530793e+02, 2.18919401e+02,\n",
              "       6.45307504e+02, 7.16961436e+02, 3.28139160e+02, 6.66301322e+02,\n",
              "       5.83141210e+02, 6.86341236e+02, 5.96107684e+01, 1.11124819e+02,\n",
              "       9.06258312e+02, 6.67880397e+02, 9.33249631e+02, 7.90490512e+02])"
            ]
          },
          "metadata": {
            "tags": []
          },
          "execution_count": 13
        }
      ]
    },
    {
      "cell_type": "markdown",
      "metadata": {
        "id": "rBTTs7oMMfIs",
        "colab_type": "text"
      },
      "source": [
        "We now have sales prices for 1000 items currently for sale at BuyStuff. Now create an RDD called `price_items` using the newly created data with 10 slices. After you create it, use one of the basic actions to see what's in the RDD."
      ]
    },
    {
      "cell_type": "code",
      "metadata": {
        "id": "kDPo2Si0MfIs",
        "colab_type": "code",
        "outputId": "dc86f7d3-22b3-4ccf-f94a-bc738709bafc",
        "colab": {
          "base_uri": "https://localhost:8080/",
          "height": 87
        }
      },
      "source": [
        "price_items = sc.parallelize(sales_figures, numSlices=10)\n",
        "price_items.take(4)"
      ],
      "execution_count": 14,
      "outputs": [
        {
          "output_type": "execute_result",
          "data": {
            "text/plain": [
              "[0.6396508406898006,\n",
              " 1.8135372791296511,\n",
              " 0.3781797936312401,\n",
              " 0.8847186600850305]"
            ]
          },
          "metadata": {
            "tags": []
          },
          "execution_count": 14
        }
      ]
    },
    {
      "cell_type": "markdown",
      "metadata": {
        "id": "wXj6DZwdMfIv",
        "colab_type": "text"
      },
      "source": [
        "Now let's perform some operations on this simple dataset. To begin with, create a function that will take into account how much money BuyStuff will receive after sales tax has been applied (assume a sales tax of 8%). To make this happen, create a function called `sales_tax()` that returns the amount of money our company will receive after the sales tax has been applied. The function will have this parameter:\n",
        "\n",
        "* `item`: (float) number to be multiplied by the sales tax.\n",
        "\n",
        "\n",
        "Apply that function to the rdd by using the `.map()` method and assign it to a variable `renenue_minus_tax`"
      ]
    },
    {
      "cell_type": "code",
      "metadata": {
        "id": "t0T1WooPMfIw",
        "colab_type": "code",
        "colab": {}
      },
      "source": [
        "def sales_tax(num):\n",
        "    return num*0.92\n",
        "\n",
        "revenue_minus_tax = price_items.map(sales_tax)"
      ],
      "execution_count": 0,
      "outputs": []
    },
    {
      "cell_type": "markdown",
      "metadata": {
        "id": "LCpoNA0LMfIz",
        "colab_type": "text"
      },
      "source": [
        "Remember, Spark has __lazy evaluation__, which means that the `sales_tax()` function is a transformer that is not executed until you call an action. Use one of the collection methods to execute the transformer now a part of the RDD and observe the contents of the `revenue_minus_tax` rdd."
      ]
    },
    {
      "cell_type": "code",
      "metadata": {
        "scrolled": true,
        "id": "NPNSSNJwMfIz",
        "colab_type": "code",
        "outputId": "fd469ee6-636a-43bb-d003-76faadde41b8",
        "colab": {
          "base_uri": "https://localhost:8080/",
          "height": 194
        }
      },
      "source": [
        "# perform action to retrieve rdd values\n",
        "revenue_minus_tax.take(10)"
      ],
      "execution_count": 16,
      "outputs": [
        {
          "output_type": "execute_result",
          "data": {
            "text/plain": [
              "[0.5884787734346166,\n",
              " 1.668454296799279,\n",
              " 0.3479254101407409,\n",
              " 0.8139411672782281,\n",
              " 2.060297430802508,\n",
              " 0.24863365015159442,\n",
              " 6.32630368530064,\n",
              " 4.685713634537652,\n",
              " 3.907207770853302,\n",
              " 4.166625496238749]"
            ]
          },
          "metadata": {
            "tags": []
          },
          "execution_count": 16
        }
      ]
    },
    {
      "cell_type": "markdown",
      "metadata": {
        "id": "zi7C7jk5MfI2",
        "colab_type": "text"
      },
      "source": [
        "### Lambda Functions\n",
        "\n",
        "Note that you can also use lambda functions if you want to quickly perform simple operations on data without creating a function. Let's assume that BuyStuff has also decided to offer a 10% discount on all of their items on the pre-tax amounts of each item. Use a lambda function within a `.map()` method to apply the additional 10% loss in revenue for BuyStuff and assign the transformed RDD to a new RDD called `discounted`."
      ]
    },
    {
      "cell_type": "code",
      "metadata": {
        "id": "ifk7dttPMfI3",
        "colab_type": "code",
        "colab": {}
      },
      "source": [
        "discounted = revenue_minus_tax.map(lambda x: x*0.9)"
      ],
      "execution_count": 0,
      "outputs": []
    },
    {
      "cell_type": "code",
      "metadata": {
        "scrolled": true,
        "id": "VdfoVYDSMfI6",
        "colab_type": "code",
        "outputId": "acf9de7b-a304-4b2a-98aa-e3791fb40482",
        "colab": {
          "base_uri": "https://localhost:8080/",
          "height": 194
        }
      },
      "source": [
        "discounted.take(10)"
      ],
      "execution_count": 18,
      "outputs": [
        {
          "output_type": "execute_result",
          "data": {
            "text/plain": [
              "[0.529630896091155,\n",
              " 1.5016088671193513,\n",
              " 0.3131328691266668,\n",
              " 0.7325470505504053,\n",
              " 1.8542676877222575,\n",
              " 0.223770285136435,\n",
              " 5.6936733167705755,\n",
              " 4.217142271083888,\n",
              " 3.516486993767972,\n",
              " 3.7499629466148736]"
            ]
          },
          "metadata": {
            "tags": []
          },
          "execution_count": 18
        }
      ]
    },
    {
      "cell_type": "markdown",
      "metadata": {
        "id": "tppvUViLMfI-",
        "colab_type": "text"
      },
      "source": [
        "## Chaining Methods\n",
        "\n",
        "You are also able to chain methods together with Spark. In one line, remove the tax and discount from the revenue of BuyStuff and use a collection method to see the 15 costliest items."
      ]
    },
    {
      "cell_type": "code",
      "metadata": {
        "scrolled": true,
        "id": "9TS63qSoMfI-",
        "colab_type": "code",
        "outputId": "bc0fafd8-8d53-435a-9c38-c357b55b7788",
        "colab": {
          "base_uri": "https://localhost:8080/",
          "height": 283
        }
      },
      "source": [
        "price_items.map(sales_tax).map(lambda x: x*.09).top(15)"
      ],
      "execution_count": 19,
      "outputs": [
        {
          "output_type": "execute_result",
          "data": {
            "text/plain": [
              "[78.80226534741068,\n",
              " 77.27306941706885,\n",
              " 75.0724102821231,\n",
              " 75.03818821907024,\n",
              " 72.14530637289977,\n",
              " 71.9439215154975,\n",
              " 71.73155573256608,\n",
              " 71.70234018072335,\n",
              " 70.3259079309065,\n",
              " 70.19987478473693,\n",
              " 69.6895449335779,\n",
              " 69.55024868656886,\n",
              " 68.57305302976505,\n",
              " 68.2557258862508,\n",
              " 68.08677101642688]"
            ]
          },
          "metadata": {
            "tags": []
          },
          "execution_count": 19
        }
      ]
    },
    {
      "cell_type": "markdown",
      "metadata": {
        "id": "QKHc1lzQMfJC",
        "colab_type": "text"
      },
      "source": [
        "## RDD Lineage\n",
        "\n",
        "\n",
        "We are able to see the full lineage of all the operations that have been performed on an RDD by using the `RDD.toDebugString()` method. As your transformations become more complex, you are encouraged to call this method to get a better understanding of the dependencies between RDDs. Try calling it on the `discounted` RDD to see what RDDs it is dependent on."
      ]
    },
    {
      "cell_type": "code",
      "metadata": {
        "id": "-GiJ7NMBMfJC",
        "colab_type": "code",
        "outputId": "8534f870-a830-4599-ec6d-885c820638b3",
        "colab": {
          "base_uri": "https://localhost:8080/",
          "height": 34
        }
      },
      "source": [
        "discounted.toDebugString()"
      ],
      "execution_count": 20,
      "outputs": [
        {
          "output_type": "execute_result",
          "data": {
            "text/plain": [
              "b'(10) PythonRDD[10] at RDD at PythonRDD.scala:53 []\\n |   ParallelCollectionRDD[5] at parallelize at PythonRDD.scala:195 []'"
            ]
          },
          "metadata": {
            "tags": []
          },
          "execution_count": 20
        }
      ]
    },
    {
      "cell_type": "markdown",
      "metadata": {
        "id": "o9TvGdhmMfJF",
        "colab_type": "text"
      },
      "source": [
        "### Map vs. Flatmap\n",
        "\n",
        "Depending on how you want your data to be outputted, you might want to use `.flatMap()` rather than a simple `.map()`. Let's take a look at how it performs operations versus the standard map. Let's say we wanted to maintain the original amount BuyStuff receives for each item as well as the new amount after the tax and discount are applied. Create a map function that will return a tuple with (original price, post-discount price)."
      ]
    },
    {
      "cell_type": "code",
      "metadata": {
        "id": "olOV4yUHMfJF",
        "colab_type": "code",
        "outputId": "3cfd29f0-a993-4527-a635-d67cf7897bfc",
        "colab": {
          "base_uri": "https://localhost:8080/",
          "height": 0
        }
      },
      "source": [
        "mapped = price_items.map(lambda x: (x, x*0.92 *0.9))\n",
        "print(mapped.count())\n",
        "print(mapped.take(10))"
      ],
      "execution_count": 21,
      "outputs": [
        {
          "output_type": "stream",
          "text": [
            "1000\n",
            "[(0.6396508406898006, 0.529630896091155), (1.8135372791296511, 1.5016088671193513), (0.3781797936312401, 0.3131328691266668), (0.8847186600850305, 0.7325470505504053), (2.239453729133161, 1.8542676877222575), (0.2702539675560809, 0.223770285136435), (6.8764170492398256, 5.6936733167705755), (5.093166994062665, 4.217142271083888), (4.246964968318807, 3.516486993767972), (4.528940756781248, 3.7499629466148736)]\n"
          ],
          "name": "stdout"
        }
      ]
    },
    {
      "cell_type": "markdown",
      "metadata": {
        "id": "_V-aw8PaMfJJ",
        "colab_type": "text"
      },
      "source": [
        "Note that we have 1000 tuples created to our specification. Let's take a look at how `.flatMap()` differs in its implementation. Use the `.flatMap()` method with the same function you created above."
      ]
    },
    {
      "cell_type": "code",
      "metadata": {
        "id": "52VuPNr0MfJK",
        "colab_type": "code",
        "outputId": "0984560b-ad27-4470-e0a7-c377c28347d7",
        "colab": {
          "base_uri": "https://localhost:8080/",
          "height": 0
        }
      },
      "source": [
        "flat_mapped = price_items.flatMap(lambda x: (x, x*0.92 *0.9))\n",
        "print(flat_mapped.count())\n",
        "print(flat_mapped.take(10))"
      ],
      "execution_count": 22,
      "outputs": [
        {
          "output_type": "stream",
          "text": [
            "2000\n",
            "[0.6396508406898006, 0.529630896091155, 1.8135372791296511, 1.5016088671193513, 0.3781797936312401, 0.3131328691266668, 0.8847186600850305, 0.7325470505504053, 2.239453729133161, 1.8542676877222575]\n"
          ],
          "name": "stdout"
        }
      ]
    },
    {
      "cell_type": "markdown",
      "metadata": {
        "id": "waSDeO-5MfJN",
        "colab_type": "text"
      },
      "source": [
        "Rather than being represented by tuples, all of the  values are now on the same level. When we are trying to combine different items together, it is sometimes necessary to use `.flatMap()` rather than `.map()` in order to properly reduce to our specifications. This is not one of those instances, but in the upcoming lab, you just might have to use it."
      ]
    },
    {
      "cell_type": "markdown",
      "metadata": {
        "id": "M2_XNNdsMfJN",
        "colab_type": "text"
      },
      "source": [
        "## Filter\n",
        "After meeting with some external consultants, BuyStuff has determined that its business will be more profitable if it focuses on higher ticket items. Now, use the `.filter()` method to select items that bring in more than $300 after tax and discount have been removed. A filter method is a specialized form of a map function that only returns the items that match a certain criterion. In the cell below:\n",
        "* use a lambda function within a `.filter()` method to meet the consultant's suggestion's specifications. set `RDD = selected_items`\n",
        "* calculate the total number of items remaining in BuyStuff's inventory"
      ]
    },
    {
      "cell_type": "code",
      "metadata": {
        "id": "K2ygq7eaMfJO",
        "colab_type": "code",
        "outputId": "0b8a3b34-d0fe-4395-e0f6-5eb841caaf38",
        "colab": {
          "base_uri": "https://localhost:8080/",
          "height": 34
        }
      },
      "source": [
        "# use the filter function\n",
        "selected_items = discounted.filter(lambda x: x>300)\n",
        "\n",
        "# calculate total remaining in inventory \n",
        "selected_items.count()"
      ],
      "execution_count": 23,
      "outputs": [
        {
          "output_type": "execute_result",
          "data": {
            "text/plain": [
              "276"
            ]
          },
          "metadata": {
            "tags": []
          },
          "execution_count": 23
        }
      ]
    },
    {
      "cell_type": "markdown",
      "metadata": {
        "id": "xQoYyczoMfJQ",
        "colab_type": "text"
      },
      "source": [
        "## Reduce\n",
        "\n",
        "Reduce functions are where you are in some way combing all of the variables that you have mapped out. Here is an example of how a reduce function works when the task is to sum all values:\n",
        "\n",
        "<img src = \"./images/reduce_function.png\" width = \"600\">  \n",
        "\n",
        "\n",
        "As you can see, the operation is performed within each partition first, after which, the results of the computations in each partition are combined to come up with one final answer.  \n",
        "\n",
        "Now it's time to figure out how much money BuyStuff would make from selling one of all of its items after they've reduced their inventory. Use the `.reduce()` method with a lambda function to add up all of the values in the RDD. Your lambda function should have two variables. "
      ]
    },
    {
      "cell_type": "code",
      "metadata": {
        "id": "javys6OgMfJR",
        "colab_type": "code",
        "outputId": "76324840-de79-4ac7-80ec-192ea9b851e2",
        "colab": {
          "base_uri": "https://localhost:8080/",
          "height": 34
        }
      },
      "source": [
        "selected_items.reduce(lambda x,y: x + y)"
      ],
      "execution_count": 24,
      "outputs": [
        {
          "output_type": "execute_result",
          "data": {
            "text/plain": [
              "128588.1947733079"
            ]
          },
          "metadata": {
            "tags": []
          },
          "execution_count": 24
        }
      ]
    },
    {
      "cell_type": "markdown",
      "metadata": {
        "id": "qj7XFg0HMfJV",
        "colab_type": "text"
      },
      "source": [
        "The time has come for BuyStuff to open up shop and start selling its goods. It only has one of each item, but it's allowing 50 lucky users to buy as many items as they want while they remain in stock. Within seconds, BuyStuff is sold out. Below, you'll find the sales data in an RDD with tuples of (user, item bought)."
      ]
    },
    {
      "cell_type": "code",
      "metadata": {
        "id": "Xx2YnAc1MfJW",
        "colab_type": "code",
        "outputId": "333032b0-339e-4abd-c0ce-d30d7633593a",
        "colab": {
          "base_uri": "https://localhost:8080/",
          "height": 141
        }
      },
      "source": [
        "import random\n",
        "random.seed(42)\n",
        "# generating simulated users that have bought each item\n",
        "sales_data = selected_items.map(lambda x: (random.randint(1, 50), x))\n",
        "\n",
        "sales_data.take(7)"
      ],
      "execution_count": 25,
      "outputs": [
        {
          "output_type": "execute_result",
          "data": {
            "text/plain": [
              "[(20, 314.3534605097313),\n",
              " (20, 326.4994955250321),\n",
              " (33, 343.18442655367716),\n",
              " (28, 343.9850312918105),\n",
              " (37, 357.16703812307446),\n",
              " (10, 341.51590260222815),\n",
              " (3, 365.13488562948214)]"
            ]
          },
          "metadata": {
            "tags": []
          },
          "execution_count": 25
        }
      ]
    },
    {
      "cell_type": "markdown",
      "metadata": {
        "id": "MAmUHoQeMfJY",
        "colab_type": "text"
      },
      "source": [
        "It's time to determine some basic statistics about BuyStuff users.\n",
        "\n",
        "Let's start off by creating an RDD that determines how much each user spent in total.\n",
        "To do this we can use a method called `.reduceByKey()` to perform reducing operations while grouping by keys. After you have calculated the total, use the `.sortBy()` method on the RDD to rank the users from the highest spending to the least spending. "
      ]
    },
    {
      "cell_type": "code",
      "metadata": {
        "id": "cOT4MdzHMfJZ",
        "colab_type": "code",
        "colab": {}
      },
      "source": [
        "# calculate how much each user spent\n",
        "total_spent = sales_data.reduceByKey(lambda x,y: x + y)"
      ],
      "execution_count": 0,
      "outputs": []
    },
    {
      "cell_type": "code",
      "metadata": {
        "id": "RmobL3g9MfJb",
        "colab_type": "code",
        "outputId": "f5727119-e875-4a69-c53f-5690aaaf7ad3",
        "colab": {
          "base_uri": "https://localhost:8080/",
          "height": 870
        }
      },
      "source": [
        "# sort the users from highest to lowest spenders\n",
        "total_spent.sortBy(lambda x: x[1],ascending = False).collect()"
      ],
      "execution_count": 27,
      "outputs": [
        {
          "output_type": "execute_result",
          "data": {
            "text/plain": [
              "[(20, 6899.127736381164),\n",
              " (15, 6294.376112025773),\n",
              " (24, 6133.613982404435),\n",
              " (26, 4865.793166724818),\n",
              " (50, 4497.1053941679),\n",
              " (32, 4258.795748068251),\n",
              " (40, 4024.672625943978),\n",
              " (37, 4014.365152922318),\n",
              " (36, 3643.743683855139),\n",
              " (27, 3539.0654852249854),\n",
              " (21, 3354.834140469654),\n",
              " (4, 3154.6150305157544),\n",
              " (31, 3135.522781091173),\n",
              " (16, 3123.014514805489),\n",
              " (6, 3004.2435974595573),\n",
              " (42, 2813.1075359887027),\n",
              " (22, 2773.985117740338),\n",
              " (7, 2755.2611529350634),\n",
              " (13, 2590.2492965659503),\n",
              " (48, 2589.2359335412625),\n",
              " (35, 2589.161821142071),\n",
              " (28, 2557.35186984344),\n",
              " (49, 2529.741918176156),\n",
              " (9, 2412.831750289196),\n",
              " (10, 2371.6146684821206),\n",
              " (19, 2355.002128549585),\n",
              " (38, 2343.586375828171),\n",
              " (44, 2249.4626184104545),\n",
              " (29, 2247.1036337064525),\n",
              " (8, 2140.9574029142395),\n",
              " (3, 2107.9180370906724),\n",
              " (47, 2009.2115740362633),\n",
              " (1, 1992.487874718328),\n",
              " (17, 1954.5889737412504),\n",
              " (25, 1863.8509006634995),\n",
              " (12, 1792.5254084801152),\n",
              " (5, 1751.1792489898462),\n",
              " (18, 1709.51844222418),\n",
              " (43, 1584.1710168046186),\n",
              " (41, 1568.6039215115065),\n",
              " (39, 1554.0906463195547),\n",
              " (33, 1502.6342034113532),\n",
              " (11, 1491.062503126851),\n",
              " (30, 1319.6143342353257),\n",
              " (14, 985.3376401569933),\n",
              " (45, 762.1407162816325),\n",
              " (2, 720.1267834802827),\n",
              " (46, 657.5901718620471)]"
            ]
          },
          "metadata": {
            "tags": []
          },
          "execution_count": 27
        }
      ]
    },
    {
      "cell_type": "markdown",
      "metadata": {
        "id": "uShOB79LMfJe",
        "colab_type": "text"
      },
      "source": [
        "Next, let's determine how many items were bought per user. This can be solved in one line using an RDD method. After you've counted the total number of items bought per person, sort the users from most number of items bought to least number of items. Time to start a customer loyalty program!"
      ]
    },
    {
      "cell_type": "code",
      "metadata": {
        "id": "-XIQnPiRMfJe",
        "colab_type": "code",
        "colab": {}
      },
      "source": [
        "# have to come back to this\n",
        "num_items = sales_data.countByKey(   )"
      ],
      "execution_count": 0,
      "outputs": []
    },
    {
      "cell_type": "code",
      "metadata": {
        "id": "uOLtvi04mpzz",
        "colab_type": "code",
        "outputId": "f6b2a42a-e941-4a22-8177-e43fa1dc68dd",
        "colab": {
          "base_uri": "https://localhost:8080/",
          "height": 852
        }
      },
      "source": [
        "sorted(num_items.items(),key=lambda kv:kv[1],reverse=True)"
      ],
      "execution_count": 29,
      "outputs": [
        {
          "output_type": "execute_result",
          "data": {
            "text/plain": [
              "[(40, 16),\n",
              " (2, 12),\n",
              " (48, 11),\n",
              " (35, 10),\n",
              " (24, 10),\n",
              " (11, 10),\n",
              " (1, 10),\n",
              " (47, 8),\n",
              " (21, 8),\n",
              " (50, 8),\n",
              " (39, 8),\n",
              " (7, 7),\n",
              " (4, 7),\n",
              " (46, 7),\n",
              " (17, 7),\n",
              " (15, 7),\n",
              " (29, 7),\n",
              " (19, 7),\n",
              " (13, 6),\n",
              " (43, 6),\n",
              " (6, 6),\n",
              " (45, 6),\n",
              " (28, 6),\n",
              " (9, 6),\n",
              " (8, 6),\n",
              " (16, 6),\n",
              " (44, 5),\n",
              " (26, 5),\n",
              " (42, 4),\n",
              " (37, 4),\n",
              " (34, 4),\n",
              " (49, 4),\n",
              " (14, 4),\n",
              " (10, 4),\n",
              " (36, 4),\n",
              " (30, 4),\n",
              " (41, 3),\n",
              " (27, 3),\n",
              " (3, 3),\n",
              " (32, 3),\n",
              " (12, 2),\n",
              " (22, 2),\n",
              " (31, 2),\n",
              " (25, 2),\n",
              " (5, 2),\n",
              " (33, 2),\n",
              " (20, 2)]"
            ]
          },
          "metadata": {
            "tags": []
          },
          "execution_count": 29
        }
      ]
    },
    {
      "cell_type": "markdown",
      "metadata": {
        "id": "pk_LfuFcMfJh",
        "colab_type": "text"
      },
      "source": [
        "### Additional Reading\n",
        "\n",
        "- [The original paper on RDDs](https://cs.stanford.edu/~matei/papers/2012/nsdi_spark.pdf)\n",
        "- [RDDs in Apache Spark](https://data-flair.training/blogs/create-rdds-in-apache-spark/)\n",
        "- [Programming with RDDs](https://runawayhorse001.github.io/LearningApacheSpark/rdd.html)\n",
        "- [RDD Transformations and Actions Summary](https://www.analyticsvidhya.com/blog/2016/10/using-pyspark-to-perform-transformations-and-actions-on-rdd/)"
      ]
    },
    {
      "cell_type": "markdown",
      "metadata": {
        "id": "WAMhTalWMfJh",
        "colab_type": "text"
      },
      "source": [
        "## Summary\n",
        "\n",
        "In this lab we went through a brief introduction to RDD creation from a Python collection, setting a number of logical partitions for an RDD and extracting lineage. We also used transformations and actions to perform calculations across RDDs on a distributed setup. In the next lab, you'll get the chance to apply these transformations on different books to calculate word counts and various statistics.\n"
      ]
    }
  ]
}